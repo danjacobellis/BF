{
 "cells": [
  {
   "cell_type": "code",
   "execution_count": 1,
   "id": "348f5d35-8681-45e2-9d8c-54b40214ab01",
   "metadata": {},
   "outputs": [],
   "source": [
    "from datasets import Features, Value, ClassLabel, Array2D, DatasetDict, Dataset, load_dataset\n",
    "dataset = load_dataset(\"danjacobellis/audio_har_descript_44kHz\",split='train').with_format(\"torch\")"
   ]
  },
  {
   "cell_type": "code",
   "execution_count": 2,
   "id": "449ab608-1687-4ee2-9c08-0d1a1df57263",
   "metadata": {},
   "outputs": [],
   "source": [
    "segment_length=900\n",
    "overlap=0.9\n",
    "step_size = int(segment_length * (1 - overlap))\n",
    "new_dataset = {\n",
    "    'codes': [],\n",
    "    'label': [],\n",
    "    'label_str': [],\n",
    "    'participant': [],\n",
    "}\n",
    "for sample in dataset:\n",
    "    codes = sample['codes'].squeeze(0)\n",
    "    num_segments = (codes.shape[1] - segment_length) // step_size + 1\n",
    "    for start_idx in range(0, num_segments * step_size, step_size):\n",
    "        end_idx = start_idx + segment_length\n",
    "        segment = codes[:, start_idx:end_idx]\n",
    "        new_dataset['codes'].append(segment)\n",
    "        new_dataset['label'].append(sample['label'])\n",
    "        new_dataset['label_str'].append(sample['label_str'])\n",
    "        new_dataset['participant'].append(sample['participant'])"
   ]
  },
  {
   "cell_type": "code",
   "execution_count": 3,
   "id": "685b146a-b500-4c9a-a508-0af2307fcfdb",
   "metadata": {},
   "outputs": [],
   "source": [
    "num_classes = 24\n",
    "class_names = [\n",
    "    \"No Activity\",\n",
    "    \"Writing\",\n",
    "    \"Drawing\",\n",
    "    \"Cutting paper\",\n",
    "    \"Typing on keyboard\",\n",
    "    \"Typing on phone\",\n",
    "    \"Browsing on phone\",\n",
    "    \"Clapping\",\n",
    "    \"Shuffling cards\",\n",
    "    \"Scratching\",\n",
    "    \"Wiping table\",\n",
    "    \"Brushing hair\",\n",
    "    \"Washing hands\",\n",
    "    \"Drinking\",\n",
    "    \"Eating snacks\",\n",
    "    \"Brushing teeth\",\n",
    "    \"Chopping\",\n",
    "    \"Grating\",\n",
    "    \"Frying\",\n",
    "    \"Sweeping\",\n",
    "    \"Vacuuming\",\n",
    "    \"Washing dishes\",\n",
    "    \"Filling water\",\n",
    "    \"Using microwave\"]\n",
    "\n",
    "features = Features({\n",
    "    'codes': Array2D(dtype=\"float32\", shape=(9, 900)),  # Adjust dtype as necessary\n",
    "    'label': ClassLabel(num_classes=num_classes, names=class_names),\n",
    "    'label_str': Value(dtype='string'),\n",
    "    'participant': Value(dtype='int32'),\n",
    "})"
   ]
  },
  {
   "cell_type": "code",
   "execution_count": 4,
   "id": "9ec33720-a712-4bf8-bfba-c3dc9984b275",
   "metadata": {},
   "outputs": [],
   "source": [
    "new_dataset = Dataset.from_dict(new_dataset, features=features)"
   ]
  },
  {
   "cell_type": "code",
   "execution_count": 5,
   "id": "e4da6571-dfaa-43c5-b2df-6bcf94411952",
   "metadata": {},
   "outputs": [
    {
     "data": {
      "application/vnd.jupyter.widget-view+json": {
       "model_id": "f6dea0f693114b24ad440a7272c7ee4b",
       "version_major": 2,
       "version_minor": 0
      },
      "text/plain": [
       "Uploading the dataset shards:   0%|          | 0/1 [00:00<?, ?it/s]"
      ]
     },
     "metadata": {},
     "output_type": "display_data"
    },
    {
     "data": {
      "application/vnd.jupyter.widget-view+json": {
       "model_id": "27a9f25d2c6840c183e62e7fc76f131d",
       "version_major": 2,
       "version_minor": 0
      },
      "text/plain": [
       "Creating parquet from Arrow format:   0%|          | 0/5 [00:00<?, ?ba/s]"
      ]
     },
     "metadata": {},
     "output_type": "display_data"
    },
    {
     "data": {
      "text/plain": [
       "CommitInfo(commit_url='https://huggingface.co/datasets/danjacobellis/audio_har_descript_44kHz_frames_900/commit/19cce9f3ded8b07d73b8847bd3112a7c4e8b55d4', commit_message='Upload dataset', commit_description='', oid='19cce9f3ded8b07d73b8847bd3112a7c4e8b55d4', pr_url=None, pr_revision=None, pr_num=None)"
      ]
     },
     "execution_count": 5,
     "metadata": {},
     "output_type": "execute_result"
    }
   ],
   "source": [
    "new_dataset.push_to_hub(\"danjacobellis/audio_har_descript_44kHz_frames_900\")"
   ]
  }
 ],
 "metadata": {
  "kernelspec": {
   "display_name": "Python 3 (ipykernel)",
   "language": "python",
   "name": "python3"
  },
  "language_info": {
   "codemirror_mode": {
    "name": "ipython",
    "version": 3
   },
   "file_extension": ".py",
   "mimetype": "text/x-python",
   "name": "python",
   "nbconvert_exporter": "python",
   "pygments_lexer": "ipython3",
   "version": "3.10.12"
  }
 },
 "nbformat": 4,
 "nbformat_minor": 5
}
