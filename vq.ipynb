{
 "cells": [
  {
   "cell_type": "code",
   "execution_count": 1,
   "id": "36bea0c6-a28d-4d53-8922-3c716f16b97a",
   "metadata": {},
   "outputs": [
    {
     "name": "stderr",
     "output_type": "stream",
     "text": [
      "2024-03-23 17:37:26.007914: E tensorflow/compiler/xla/stream_executor/cuda/cuda_dnn.cc:9342] Unable to register cuDNN factory: Attempting to register factory for plugin cuDNN when one has already been registered\n",
      "2024-03-23 17:37:26.007961: E tensorflow/compiler/xla/stream_executor/cuda/cuda_fft.cc:609] Unable to register cuFFT factory: Attempting to register factory for plugin cuFFT when one has already been registered\n",
      "2024-03-23 17:37:26.008000: E tensorflow/compiler/xla/stream_executor/cuda/cuda_blas.cc:1518] Unable to register cuBLAS factory: Attempting to register factory for plugin cuBLAS when one has already been registered\n",
      "2024-03-23 17:37:26.016974: I tensorflow/core/platform/cpu_feature_guard.cc:182] This TensorFlow binary is optimized to use available CPU instructions in performance-critical operations.\n",
      "To enable the following instructions: AVX2 FMA, in other operations, rebuild TensorFlow with the appropriate compiler flags.\n"
     ]
    }
   ],
   "source": [
    "import dac\n",
    "import torch\n",
    "from torchaudio.transforms import Resample\n",
    "from datasets import load_dataset\n",
    "from audiotools import AudioSignal\n",
    "from IPython.display import Audio"
   ]
  },
  {
   "cell_type": "code",
   "execution_count": 2,
   "id": "daaedeb8-2a58-47a3-861b-6aa278501a37",
   "metadata": {},
   "outputs": [],
   "source": [
    "dataset = load_dataset(\"danjacobellis/audio_har\",split='semi_natural')\n",
    "dataset = dataset.with_format('torch')\n",
    "fs_orig = dataset[0]['path']['sampling_rate']\n",
    "fs = 44100\n",
    "resampler = Resample(fs_orig,fs)"
   ]
  },
  {
   "cell_type": "code",
   "execution_count": 3,
   "id": "fd1ef25b-8c1d-47fc-8699-1b97e38c26f5",
   "metadata": {},
   "outputs": [
    {
     "name": "stderr",
     "output_type": "stream",
     "text": [
      "/home/server/.local/lib/python3.10/site-packages/torch/nn/utils/weight_norm.py:30: UserWarning: torch.nn.utils.weight_norm is deprecated in favor of torch.nn.utils.parametrizations.weight_norm.\n",
      "  warnings.warn(\"torch.nn.utils.weight_norm is deprecated in favor of torch.nn.utils.parametrizations.weight_norm.\")\n"
     ]
    }
   ],
   "source": [
    "model_path = dac.utils.download(model_type=\"44khz\")\n",
    "model = dac.DAC.load(model_path)\n",
    "model.to('cuda');"
   ]
  },
  {
   "cell_type": "code",
   "execution_count": 4,
   "id": "5d6ac991-680c-48ef-99b7-9c870d0f40eb",
   "metadata": {},
   "outputs": [],
   "source": [
    "def audio_to_code(sample):\n",
    "    with torch.no_grad():\n",
    "        signal = AudioSignal(sample['path']['array'],sample_rate=fs)\n",
    "        signal.to(model.device)\n",
    "        x = model.preprocess(signal.audio_data, signal.sample_rate)\n",
    "        z, codes, latents, _, _ = model.encode(x)\n",
    "        sample['codes'] = codes.detach().cpu()\n",
    "        return sample"
   ]
  },
  {
   "cell_type": "code",
   "execution_count": 5,
   "id": "8107e243-f6b0-4a3a-9846-979a8c392691",
   "metadata": {},
   "outputs": [
    {
     "data": {
      "application/vnd.jupyter.widget-view+json": {
       "model_id": "a5e2577c5b9c4d0daf17d4d25d8090c3",
       "version_major": 2,
       "version_minor": 0
      },
      "text/plain": [
       "Map:   0%|          | 0/669 [00:00<?, ? examples/s]"
      ]
     },
     "metadata": {},
     "output_type": "display_data"
    }
   ],
   "source": [
    "dataset = dataset.map(audio_to_code)"
   ]
  },
  {
   "cell_type": "code",
   "execution_count": 6,
   "id": "0a6318c8-72c5-4859-b4d5-d3c7c0f0b42b",
   "metadata": {},
   "outputs": [],
   "source": [
    "dataset = dataset.remove_columns('path')"
   ]
  },
  {
   "cell_type": "code",
   "execution_count": 7,
   "id": "db3e7361-bee4-492e-8a54-6476a3afc6b2",
   "metadata": {},
   "outputs": [
    {
     "data": {
      "application/vnd.jupyter.widget-view+json": {
       "model_id": "6c398494a1bc4f2d94a88ecbe902b12e",
       "version_major": 2,
       "version_minor": 0
      },
      "text/plain": [
       "Uploading the dataset shards:   0%|          | 0/1 [00:00<?, ?it/s]"
      ]
     },
     "metadata": {},
     "output_type": "display_data"
    },
    {
     "data": {
      "application/vnd.jupyter.widget-view+json": {
       "model_id": "a2b4e987673b45c1bc3f12f839ee841b",
       "version_major": 2,
       "version_minor": 0
      },
      "text/plain": [
       "Creating parquet from Arrow format:   0%|          | 0/1 [00:00<?, ?ba/s]"
      ]
     },
     "metadata": {},
     "output_type": "display_data"
    },
    {
     "data": {
      "text/plain": [
       "CommitInfo(commit_url='https://huggingface.co/datasets/danjacobellis/audio_har_descript_44kHz/commit/62b8f522ac7f7145f2795606f574ba488aaa9439', commit_message='Upload dataset', commit_description='', oid='62b8f522ac7f7145f2795606f574ba488aaa9439', pr_url=None, pr_revision=None, pr_num=None)"
      ]
     },
     "execution_count": 7,
     "metadata": {},
     "output_type": "execute_result"
    }
   ],
   "source": [
    "dataset.push_to_hub('danjacobellis/audio_har_descript_44kHz',split='train')"
   ]
  },
  {
   "cell_type": "code",
   "execution_count": 16,
   "id": "add26a7b-184e-43d2-b823-46c471aa3399",
   "metadata": {},
   "outputs": [
    {
     "data": {
      "text/plain": [
       "1294"
      ]
     },
     "execution_count": 16,
     "metadata": {},
     "output_type": "execute_result"
    }
   ],
   "source": [
    "min([s['codes'].shape[2] for s in dataset])"
   ]
  }
 ],
 "metadata": {
  "kernelspec": {
   "display_name": "Python 3 (ipykernel)",
   "language": "python",
   "name": "python3"
  },
  "language_info": {
   "codemirror_mode": {
    "name": "ipython",
    "version": 3
   },
   "file_extension": ".py",
   "mimetype": "text/x-python",
   "name": "python",
   "nbconvert_exporter": "python",
   "pygments_lexer": "ipython3",
   "version": "3.10.12"
  }
 },
 "nbformat": 4,
 "nbformat_minor": 5
}
