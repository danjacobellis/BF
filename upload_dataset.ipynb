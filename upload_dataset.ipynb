{
 "cells": [
  {
   "cell_type": "code",
   "execution_count": 1,
   "id": "f01199e1-ece6-42bf-85f5-2623126f0c69",
   "metadata": {},
   "outputs": [],
   "source": [
    "from glob import glob\n",
    "from datasets import Dataset, DatasetDict, Audio\n",
    "\n",
    "labels = {\n",
    "    '_': (0, \"No Activity\"),\n",
    "    'a': (1, \"Writing\"),\n",
    "    'b': (2, \"Drawing\"),\n",
    "    'c': (3, \"Cutting paper\"),\n",
    "    'd': (4, \"Typing on keyboard\"),\n",
    "    'e': (5, \"Typing on phone\"),\n",
    "    'f': (6, \"Browsing on phone\"),\n",
    "    'g': (7, \"Clapping\"),\n",
    "    'h': (8, \"Shuffling cards\"),\n",
    "    'i': (9, \"Scratching\"),\n",
    "    'j': (10, \"Wiping table\"),\n",
    "    'k': (11, \"Brushing hair\"),\n",
    "    'l': (12, \"Washing hands\"),\n",
    "    'm': (13, \"Drinking\"),\n",
    "    'n': (14, \"Eating snacks\"),\n",
    "    'o': (15, \"Brushing teeth\"),\n",
    "    'p': (16, \"Chopping\"),\n",
    "    'q': (17, \"Grating\"),\n",
    "    'r': (18, \"Frying\"),\n",
    "    's': (19, \"Sweeping\"),\n",
    "    't': (20, \"Vacuuming\"),\n",
    "    'u': (21, \"Washing dishes\"),\n",
    "    'v': (22, \"Filling water\"),\n",
    "    'w': (23, \"Using microwave\"),\n",
    "}\n",
    "\n",
    "file_list = glob(\"audio_har/*/*/SegAudio/*.wav\")\n",
    "\n",
    "data = {'path': [], 'label': [], 'label_str': [], 'participant': []}\n",
    "for filepath in file_list:\n",
    "    participant_str = filepath.split('/')[-4][1:]  # Get the participant number, assumed to be in the PXX format\n",
    "    participant_num = int(participant_str)  # Convert participant number to integer\n",
    "    \n",
    "    label_char = filepath.split('/')[-1][-5]\n",
    "    if label_char in labels:\n",
    "        label_idx, label_str = labels[label_char]\n",
    "    else:\n",
    "        label_idx, label_str = labels['_']  # Default to \"No Activity\" if unknown\n",
    "    data['path'].append(filepath)\n",
    "    data['label'].append(label_idx)\n",
    "    data['label_str'].append(label_str)\n",
    "    data['participant'].append(participant_num)\n",
    "\n",
    "audio_dataset = Dataset.from_dict(data)\n",
    "audio_dataset = audio_dataset.cast_column(\"path\", Audio())"
   ]
  },
  {
   "cell_type": "code",
   "execution_count": 7,
   "id": "26da27d1-a97d-4a54-b892-0122aea3ce49",
   "metadata": {},
   "outputs": [
    {
     "data": {
      "application/vnd.jupyter.widget-view+json": {
       "model_id": "e2635d3ad5ee448e8445d05ed75122ef",
       "version_major": 2,
       "version_minor": 0
      },
      "text/plain": [
       "Uploading the dataset shards:   0%|          | 0/4 [00:00<?, ?it/s]"
      ]
     },
     "metadata": {},
     "output_type": "display_data"
    },
    {
     "data": {
      "application/vnd.jupyter.widget-view+json": {
       "model_id": "2d87c6d804e14c549b7b9e915d68e9ba",
       "version_major": 2,
       "version_minor": 0
      },
      "text/plain": [
       "Map:   0%|          | 0/168 [00:00<?, ? examples/s]"
      ]
     },
     "metadata": {},
     "output_type": "display_data"
    },
    {
     "data": {
      "application/vnd.jupyter.widget-view+json": {
       "model_id": "1fdd811348ee43b7bfdaa79a1bd33034",
       "version_major": 2,
       "version_minor": 0
      },
      "text/plain": [
       "Creating parquet from Arrow format:   0%|          | 0/2 [00:00<?, ?ba/s]"
      ]
     },
     "metadata": {},
     "output_type": "display_data"
    },
    {
     "data": {
      "application/vnd.jupyter.widget-view+json": {
       "model_id": "2c68b0eaf4144cd49a10f42c1bc40e88",
       "version_major": 2,
       "version_minor": 0
      },
      "text/plain": [
       "Map:   0%|          | 0/167 [00:00<?, ? examples/s]"
      ]
     },
     "metadata": {},
     "output_type": "display_data"
    },
    {
     "data": {
      "application/vnd.jupyter.widget-view+json": {
       "model_id": "abf6e53662524f17b21fac01477815f9",
       "version_major": 2,
       "version_minor": 0
      },
      "text/plain": [
       "Creating parquet from Arrow format:   0%|          | 0/2 [00:00<?, ?ba/s]"
      ]
     },
     "metadata": {},
     "output_type": "display_data"
    },
    {
     "data": {
      "application/vnd.jupyter.widget-view+json": {
       "model_id": "54ee518ccacd43e39e5a50a5a0ef112e",
       "version_major": 2,
       "version_minor": 0
      },
      "text/plain": [
       "Map:   0%|          | 0/167 [00:00<?, ? examples/s]"
      ]
     },
     "metadata": {},
     "output_type": "display_data"
    },
    {
     "data": {
      "application/vnd.jupyter.widget-view+json": {
       "model_id": "775c4d53189a4dc79474444de7127793",
       "version_major": 2,
       "version_minor": 0
      },
      "text/plain": [
       "Creating parquet from Arrow format:   0%|          | 0/2 [00:00<?, ?ba/s]"
      ]
     },
     "metadata": {},
     "output_type": "display_data"
    },
    {
     "data": {
      "application/vnd.jupyter.widget-view+json": {
       "model_id": "f6bd786a1cc946969be8a0f100088447",
       "version_major": 2,
       "version_minor": 0
      },
      "text/plain": [
       "Map:   0%|          | 0/167 [00:00<?, ? examples/s]"
      ]
     },
     "metadata": {},
     "output_type": "display_data"
    },
    {
     "data": {
      "application/vnd.jupyter.widget-view+json": {
       "model_id": "db4d2de0d584496cbc551d4b17a943b5",
       "version_major": 2,
       "version_minor": 0
      },
      "text/plain": [
       "Creating parquet from Arrow format:   0%|          | 0/2 [00:00<?, ?ba/s]"
      ]
     },
     "metadata": {},
     "output_type": "display_data"
    },
    {
     "data": {
      "text/plain": [
       "CommitInfo(commit_url='https://huggingface.co/datasets/danjacobellis/audio_har/commit/631b9a9fe882fa0dd27f025a15329555458fc2ff', commit_message='Upload dataset', commit_description='', oid='631b9a9fe882fa0dd27f025a15329555458fc2ff', pr_url=None, pr_revision=None, pr_num=None)"
      ]
     },
     "execution_count": 7,
     "metadata": {},
     "output_type": "execute_result"
    }
   ],
   "source": [
    "audio_dataset.push_to_hub(\"danjacobellis/audio_har\",split='semi_natural')"
   ]
  }
 ],
 "metadata": {
  "kernelspec": {
   "display_name": "Python 3 (ipykernel)",
   "language": "python",
   "name": "python3"
  },
  "language_info": {
   "codemirror_mode": {
    "name": "ipython",
    "version": 3
   },
   "file_extension": ".py",
   "mimetype": "text/x-python",
   "name": "python",
   "nbconvert_exporter": "python",
   "pygments_lexer": "ipython3",
   "version": "3.10.12"
  }
 },
 "nbformat": 4,
 "nbformat_minor": 5
}
