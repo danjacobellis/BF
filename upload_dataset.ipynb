{
 "cells": [
  {
   "cell_type": "code",
   "execution_count": 1,
   "id": "bb588740-a2cb-4092-aaab-069a2ada2e40",
   "metadata": {},
   "outputs": [],
   "source": [
    "from glob import glob\n",
    "from datasets import Dataset, Audio"
   ]
  },
  {
   "cell_type": "code",
   "execution_count": 2,
   "id": "f01199e1-ece6-42bf-85f5-2623126f0c69",
   "metadata": {},
   "outputs": [],
   "source": [
    "labels = {\n",
    "    '_': (0,  \"No Activity\"),\n",
    "    'a': (1,  \"Writing\"),\n",
    "    'b': (2,  \"Drawing\"),\n",
    "    'c': (3,  \"Cutting paper\"),\n",
    "    'd': (4,  \"Typing on keyboard\"),\n",
    "    'e': (5,  \"Typing on phone\"),\n",
    "    'f': (6,  \"Browsing on phone\"),\n",
    "    'g': (7,  \"Clapping\"),\n",
    "    'h': (8,  \"Shuffling cards\"),\n",
    "    'i': (9,  \"Scratching\"),\n",
    "    'j': (10, \"Wiping table\"),\n",
    "    'k': (11, \"Brushing hair\"),\n",
    "    'l': (12, \"Washing hands\"),\n",
    "    'm': (13, \"Drinking\"),\n",
    "    'n': (14, \"Eating snacks\"),\n",
    "    'o': (15, \"Brushing teeth\"),\n",
    "    'p': (16, \"Chopping\"),\n",
    "    'q': (17, \"Grating\"),\n",
    "    'r': (18, \"Frying\"),\n",
    "    's': (19, \"Sweeping\"),\n",
    "    't': (20, \"Vacuuming\"),\n",
    "    'u': (21, \"Washing dishes\"),\n",
    "    'v': (22, \"Filling water\"),\n",
    "    'w': (23, \"Using microwave\"),\n",
    "}\n",
    "\n",
    "file_list = glob(\"audio_har/*/*/SegAudio/*.wav*\")\n",
    "\n",
    "data = {'path': [], 'label': [], 'label_str': []}\n",
    "for filepath in file_list:\n",
    "    label_char = filepath.split('/')[-1][-5]\n",
    "    if label_char in labels:\n",
    "        label_idx, label_str = labels[label_char]\n",
    "    else:\n",
    "        label_idx, label_str = labels['null'] \n",
    "    data['path'].append(filepath)\n",
    "    data['label'].append(label_idx)\n",
    "    data['label_str'].append(label_str)\n",
    "\n",
    "audio_dataset = Dataset.from_dict(data)\n",
    "audio_dataset = audio_dataset.cast_column(\"path\", Audio())"
   ]
  },
  {
   "cell_type": "code",
   "execution_count": 4,
   "id": "26da27d1-a97d-4a54-b892-0122aea3ce49",
   "metadata": {},
   "outputs": [
    {
     "data": {
      "text/plain": [
       "Dataset({\n",
       "    features: ['path', 'label', 'label_str'],\n",
       "    num_rows: 669\n",
       "})"
      ]
     },
     "execution_count": 4,
     "metadata": {},
     "output_type": "execute_result"
    }
   ],
   "source": [
    "audio_dataset"
   ]
  },
  {
   "cell_type": "code",
   "execution_count": 6,
   "id": "f151750a-d861-47c9-9cbe-6c6f63f30c62",
   "metadata": {},
   "outputs": [
    {
     "data": {
      "application/vnd.jupyter.widget-view+json": {
       "model_id": "d114c733d7a94a7b913a264e45ed6625",
       "version_major": 2,
       "version_minor": 0
      },
      "text/plain": [
       "Uploading the dataset shards:   0%|          | 0/4 [00:00<?, ?it/s]"
      ]
     },
     "metadata": {},
     "output_type": "display_data"
    },
    {
     "data": {
      "application/vnd.jupyter.widget-view+json": {
       "model_id": "300a42c430ff4dbbb16551da9b801023",
       "version_major": 2,
       "version_minor": 0
      },
      "text/plain": [
       "Map:   0%|          | 0/168 [00:00<?, ? examples/s]"
      ]
     },
     "metadata": {},
     "output_type": "display_data"
    },
    {
     "data": {
      "application/vnd.jupyter.widget-view+json": {
       "model_id": "f2f76d51bf144df292951ea3d8f4bfb8",
       "version_major": 2,
       "version_minor": 0
      },
      "text/plain": [
       "Creating parquet from Arrow format:   0%|          | 0/2 [00:00<?, ?ba/s]"
      ]
     },
     "metadata": {},
     "output_type": "display_data"
    },
    {
     "data": {
      "application/vnd.jupyter.widget-view+json": {
       "model_id": "8de573b093164af7804137fd68ca9c13",
       "version_major": 2,
       "version_minor": 0
      },
      "text/plain": [
       "Map:   0%|          | 0/167 [00:00<?, ? examples/s]"
      ]
     },
     "metadata": {},
     "output_type": "display_data"
    },
    {
     "data": {
      "application/vnd.jupyter.widget-view+json": {
       "model_id": "988ed26e304a40778976cd2507bde053",
       "version_major": 2,
       "version_minor": 0
      },
      "text/plain": [
       "Creating parquet from Arrow format:   0%|          | 0/2 [00:00<?, ?ba/s]"
      ]
     },
     "metadata": {},
     "output_type": "display_data"
    },
    {
     "data": {
      "application/vnd.jupyter.widget-view+json": {
       "model_id": "fe04de9d2c6140069e19318f04fc6aa6",
       "version_major": 2,
       "version_minor": 0
      },
      "text/plain": [
       "Map:   0%|          | 0/167 [00:00<?, ? examples/s]"
      ]
     },
     "metadata": {},
     "output_type": "display_data"
    },
    {
     "data": {
      "application/vnd.jupyter.widget-view+json": {
       "model_id": "cc0cffa0e61a4ff9ab8f294383c0b283",
       "version_major": 2,
       "version_minor": 0
      },
      "text/plain": [
       "Creating parquet from Arrow format:   0%|          | 0/2 [00:00<?, ?ba/s]"
      ]
     },
     "metadata": {},
     "output_type": "display_data"
    },
    {
     "data": {
      "application/vnd.jupyter.widget-view+json": {
       "model_id": "f99a880392714f2997501dd050e101a2",
       "version_major": 2,
       "version_minor": 0
      },
      "text/plain": [
       "Map:   0%|          | 0/167 [00:00<?, ? examples/s]"
      ]
     },
     "metadata": {},
     "output_type": "display_data"
    },
    {
     "data": {
      "application/vnd.jupyter.widget-view+json": {
       "model_id": "85f19116b5544c198dc33cf5ac77da50",
       "version_major": 2,
       "version_minor": 0
      },
      "text/plain": [
       "Creating parquet from Arrow format:   0%|          | 0/2 [00:00<?, ?ba/s]"
      ]
     },
     "metadata": {},
     "output_type": "display_data"
    },
    {
     "data": {
      "text/plain": [
       "CommitInfo(commit_url='https://huggingface.co/datasets/danjacobellis/audio_har/commit/effadd298fbc7e7855805cd0cbc840bd1bb30069', commit_message='Upload dataset', commit_description='', oid='effadd298fbc7e7855805cd0cbc840bd1bb30069', pr_url=None, pr_revision=None, pr_num=None)"
      ]
     },
     "execution_count": 6,
     "metadata": {},
     "output_type": "execute_result"
    }
   ],
   "source": [
    "audio_dataset.push_to_hub(\"danjacobellis/audio_har\")"
   ]
  }
 ],
 "metadata": {
  "kernelspec": {
   "display_name": "Python 3 (ipykernel)",
   "language": "python",
   "name": "python3"
  },
  "language_info": {
   "codemirror_mode": {
    "name": "ipython",
    "version": 3
   },
   "file_extension": ".py",
   "mimetype": "text/x-python",
   "name": "python",
   "nbconvert_exporter": "python",
   "pygments_lexer": "ipython3",
   "version": "3.10.12"
  }
 },
 "nbformat": 4,
 "nbformat_minor": 5
}
