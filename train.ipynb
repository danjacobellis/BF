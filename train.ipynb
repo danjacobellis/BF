{
 "cells": [
  {
   "cell_type": "code",
   "execution_count": 1,
   "id": "a3a95f0a-c11e-43a4-8ac7-a50518df3d00",
   "metadata": {},
   "outputs": [],
   "source": [
    "from datasets import load_dataset\n",
    "from torch.utils.data import DataLoader, Dataset\n",
    "import torch\n",
    "import torch.nn as nn\n",
    "import torch.nn.functional as F\n",
    "import torch.optim as optim\n",
    "import numpy as np\n",
    "from fastprogress.fastprogress import master_bar, progress_bar"
   ]
  },
  {
   "cell_type": "code",
   "execution_count": 2,
   "id": "b03c8fd5-5f3b-4fcb-b25f-f58c8bec20af",
   "metadata": {},
   "outputs": [],
   "source": [
    "import torch\n",
    "import torch.nn as nn\n",
    "import torch.nn.functional as F\n",
    "\n",
    "class SequenceClassifier(nn.Module):\n",
    "    def __init__(self):\n",
    "        super(SequenceClassifier, self).__init__()\n",
    "        # Embedding layer: 1024 input dimensions, 6 output dimensions\n",
    "        self.embedding = nn.Embedding(num_embeddings=1024, embedding_dim=6)\n",
    "        \n",
    "        # 1D Convolutional layers\n",
    "        self.conv1 = nn.Conv1d(in_channels=6, out_channels=12, kernel_size=3, stride=3)\n",
    "        self.conv2 = nn.Conv1d(in_channels=12, out_channels=24, kernel_size=5, stride=4)\n",
    "        self.conv3 = nn.Conv1d(in_channels=24, out_channels=48, kernel_size=5, stride=4)\n",
    "        \n",
    "        # 2D Convolutional layers\n",
    "        self.conv2d_1 = nn.Conv2d(in_channels=1, out_channels=8, kernel_size=5, stride=4)\n",
    "        self.conv2d_2 = nn.Conv2d(in_channels=8, out_channels=16, kernel_size=3, stride=2)\n",
    "        \n",
    "        # Fully connected layers\n",
    "        self.fc1 = nn.Linear(16*6*6, 576)  # Adjust the input size based on the output size of the last conv layer\n",
    "        self.fc2 = nn.Linear(576, 144)\n",
    "        self.fc3 = nn.Linear(144, 24)  # 23 classes + 1 catch-all class\n",
    "        \n",
    "    def forward(self, x):\n",
    "        # Embedding layer\n",
    "        x = self.embedding(x)  # Expected shape: [batch_size, seq_len, embedding_dim]\n",
    "        \n",
    "        # Permute to match Conv1D input expectations: [batch_size, channels, seq_len]\n",
    "        x = x.permute(0, 2, 1)\n",
    "        \n",
    "        # 1D Convolutional layers\n",
    "        x = F.relu(self.conv1(x))\n",
    "        x = F.relu(self.conv2(x))\n",
    "        x = F.relu(self.conv3(x))\n",
    "        \n",
    "        # Calculate the new size after convolutions for reshaping\n",
    "        # The new length can be calculated based on the convolutions' output size\n",
    "        # Here we'll need to manually calculate or adjust based on your specific sequence lengths and strides\n",
    "        conv_output_length = self._calculate_conv_output_length(x.shape[-1])\n",
    "        x = x.view(-1, 1, conv_output_length, conv_output_length)  # Adjust the shape according to your actual output\n",
    "        \n",
    "        # 2D Convolutional layers\n",
    "        x = F.relu(self.conv2d_1(x))\n",
    "        x = F.relu(self.conv2d_2(x))\n",
    "        \n",
    "        # Flatten before passing to fully connected layers\n",
    "        x = torch.flatten(x, 1)\n",
    "        \n",
    "        # Fully connected layers with ReLU activations\n",
    "        x = F.relu(self.fc1(x))\n",
    "        x = F.relu(self.fc2(x))\n",
    "        \n",
    "        # Output layer\n",
    "        x = self.fc3(x)\n",
    "        \n",
    "        return x\n",
    "\n",
    "    def _calculate_conv_output_length(self, L):\n",
    "        \"\"\"\n",
    "        Calculate the output length of the convolutional layers.\n",
    "        You might need to adjust this calculation based on the actual strides, padding, and dilation of your conv layers.\n",
    "        This is a placeholder function. Replace it with your actual calculation.\n",
    "        \"\"\"\n",
    "        # Placeholder calculation; replace with your actual calculation\n",
    "        return int((L - 4) / 4)  # Example calculation; adjust accordingly"
   ]
  },
  {
   "cell_type": "code",
   "execution_count": 3,
   "id": "2c6414eb-cf88-444e-b854-57f05be5a062",
   "metadata": {},
   "outputs": [],
   "source": [
    "model = SequenceClassifier().cuda()  # Move model to GPU"
   ]
  },
  {
   "cell_type": "code",
   "execution_count": 4,
   "id": "d6dd4370-acc4-4acc-a388-26cabe5572cc",
   "metadata": {},
   "outputs": [],
   "source": [
    "class CustomDataset(Dataset):\n",
    "    def __init__(self, hf_dataset, target_length=2304):\n",
    "        self.hf_dataset = hf_dataset\n",
    "        self.target_length = target_length  # Ensure this is correctly defined\n",
    "\n",
    "    def __len__(self):\n",
    "        return len(self.hf_dataset)\n",
    "\n",
    "    def __getitem__(self, idx):\n",
    "        item = self.hf_dataset[idx]\n",
    "        codes = item['codes']\n",
    "        label = item['label']\n",
    "\n",
    "        # Perform adaptive average pooling on the sequence\n",
    "        # `codes` is expected to be a 3D tensor with shape [1, channels, seq_len]\n",
    "        # We pool over the seq_len dimension to resize it to `target_length`\n",
    "        codes_pooled = F.adaptive_avg_pool1d(codes.squeeze(0), self.target_length).squeeze(0)\n",
    "\n",
    "        return codes_pooled, label"
   ]
  },
  {
   "cell_type": "code",
   "execution_count": 5,
   "id": "03bc8f2c-02eb-4c93-891c-5eae972fe010",
   "metadata": {},
   "outputs": [],
   "source": [
    "dataset = load_dataset(\"danjacobellis/audio_har_descript_24kHz\",split=\"train\")\n",
    "dataset = dataset.with_format(\"torch\")\n",
    "torch_dataset = CustomDataset(dataset)\n",
    "dataloader = DataLoader(torch_dataset, batch_size=10, shuffle=True)"
   ]
  },
  {
   "cell_type": "code",
   "execution_count": 9,
   "id": "937215a7-4440-467c-92a5-3356057b0af9",
   "metadata": {},
   "outputs": [],
   "source": [
    "def plot_loss_update(epoch, epochs, mb, train_loss):\n",
    "    \"\"\"Update the loss plot dynamically during training.\"\"\"\n",
    "    x = range(1, epoch + 1)\n",
    "    y = train_loss\n",
    "    graphs = [[x, y]]\n",
    "    x_margin = 0.2\n",
    "    y_margin = 0.05\n",
    "    x_bounds = [1 - x_margin, epochs + x_margin]\n",
    "    y_bounds = [np.min(y) - y_margin, np.max(y) + y_margin]\n",
    "\n",
    "    # Here we update the graph\n",
    "    mb.update_graph(graphs, x_bounds, y_bounds)"
   ]
  },
  {
   "cell_type": "code",
   "execution_count": 10,
   "id": "59564a59-7b2a-4ba3-a5dd-6e66b9e5584b",
   "metadata": {},
   "outputs": [
    {
     "data": {
      "text/html": [
       "\n",
       "<style>\n",
       "    /* Turns off some styling */\n",
       "    progress {\n",
       "        /* gets rid of default border in Firefox and Opera. */\n",
       "        border: none;\n",
       "        /* Needs to be in here for Safari polyfill so background images work as expected. */\n",
       "        background-size: auto;\n",
       "    }\n",
       "    progress:not([value]), progress:not([value])::-webkit-progress-bar {\n",
       "        background: repeating-linear-gradient(45deg, #7e7e7e, #7e7e7e 10px, #5c5c5c 10px, #5c5c5c 20px);\n",
       "    }\n",
       "    .progress-bar-interrupted, .progress-bar-interrupted::-webkit-progress-bar {\n",
       "        background: #F44336;\n",
       "    }\n",
       "</style>\n"
      ],
      "text/plain": [
       "<IPython.core.display.HTML object>"
      ]
     },
     "metadata": {},
     "output_type": "display_data"
    },
    {
     "data": {
      "text/html": [
       "\n",
       "    <div>\n",
       "      <progress value='0' class='' max='5' style='width:300px; height:20px; vertical-align: middle;'></progress>\n",
       "      0.00% [0/5 00:00&lt;?]\n",
       "    </div>\n",
       "    \n",
       "\n",
       "\n",
       "    <div>\n",
       "      <progress value='0' class='' max='67' style='width:300px; height:20px; vertical-align: middle;'></progress>\n",
       "      0.00% [0/67 00:00&lt;?]\n",
       "    </div>\n",
       "    "
      ],
      "text/plain": [
       "<IPython.core.display.HTML object>"
      ]
     },
     "metadata": {},
     "output_type": "display_data"
    },
    {
     "ename": "RuntimeError",
     "evalue": "permute(sparse_coo): number of dimensions in the tensor input does not match the length of the desired ordering of dimensions i.e. input.dim() = 4 is not equal to len(dims) = 3",
     "output_type": "error",
     "traceback": [
      "\u001b[0;31m---------------------------------------------------------------------------\u001b[0m",
      "\u001b[0;31mRuntimeError\u001b[0m                              Traceback (most recent call last)",
      "Cell \u001b[0;32mIn[10], line 15\u001b[0m\n\u001b[1;32m     11\u001b[0m inputs \u001b[38;5;241m=\u001b[39m inputs\u001b[38;5;241m.\u001b[39msqueeze(\u001b[38;5;241m1\u001b[39m)  \u001b[38;5;66;03m# Adjust dimensions as necessary\u001b[39;00m\n\u001b[1;32m     13\u001b[0m optimizer\u001b[38;5;241m.\u001b[39mzero_grad()\n\u001b[0;32m---> 15\u001b[0m outputs \u001b[38;5;241m=\u001b[39m \u001b[43mmodel\u001b[49m\u001b[43m(\u001b[49m\u001b[43minputs\u001b[49m\u001b[38;5;241;43m.\u001b[39;49m\u001b[43mlong\u001b[49m\u001b[43m(\u001b[49m\u001b[43m)\u001b[49m\u001b[43m)\u001b[49m\n\u001b[1;32m     16\u001b[0m loss \u001b[38;5;241m=\u001b[39m criterion(outputs, labels)\n\u001b[1;32m     18\u001b[0m loss\u001b[38;5;241m.\u001b[39mbackward()\n",
      "File \u001b[0;32m~/.local/lib/python3.10/site-packages/torch/nn/modules/module.py:1518\u001b[0m, in \u001b[0;36mModule._wrapped_call_impl\u001b[0;34m(self, *args, **kwargs)\u001b[0m\n\u001b[1;32m   1516\u001b[0m     \u001b[38;5;28;01mreturn\u001b[39;00m \u001b[38;5;28mself\u001b[39m\u001b[38;5;241m.\u001b[39m_compiled_call_impl(\u001b[38;5;241m*\u001b[39margs, \u001b[38;5;241m*\u001b[39m\u001b[38;5;241m*\u001b[39mkwargs)  \u001b[38;5;66;03m# type: ignore[misc]\u001b[39;00m\n\u001b[1;32m   1517\u001b[0m \u001b[38;5;28;01melse\u001b[39;00m:\n\u001b[0;32m-> 1518\u001b[0m     \u001b[38;5;28;01mreturn\u001b[39;00m \u001b[38;5;28;43mself\u001b[39;49m\u001b[38;5;241;43m.\u001b[39;49m\u001b[43m_call_impl\u001b[49m\u001b[43m(\u001b[49m\u001b[38;5;241;43m*\u001b[39;49m\u001b[43margs\u001b[49m\u001b[43m,\u001b[49m\u001b[43m \u001b[49m\u001b[38;5;241;43m*\u001b[39;49m\u001b[38;5;241;43m*\u001b[39;49m\u001b[43mkwargs\u001b[49m\u001b[43m)\u001b[49m\n",
      "File \u001b[0;32m~/.local/lib/python3.10/site-packages/torch/nn/modules/module.py:1527\u001b[0m, in \u001b[0;36mModule._call_impl\u001b[0;34m(self, *args, **kwargs)\u001b[0m\n\u001b[1;32m   1522\u001b[0m \u001b[38;5;66;03m# If we don't have any hooks, we want to skip the rest of the logic in\u001b[39;00m\n\u001b[1;32m   1523\u001b[0m \u001b[38;5;66;03m# this function, and just call forward.\u001b[39;00m\n\u001b[1;32m   1524\u001b[0m \u001b[38;5;28;01mif\u001b[39;00m \u001b[38;5;129;01mnot\u001b[39;00m (\u001b[38;5;28mself\u001b[39m\u001b[38;5;241m.\u001b[39m_backward_hooks \u001b[38;5;129;01mor\u001b[39;00m \u001b[38;5;28mself\u001b[39m\u001b[38;5;241m.\u001b[39m_backward_pre_hooks \u001b[38;5;129;01mor\u001b[39;00m \u001b[38;5;28mself\u001b[39m\u001b[38;5;241m.\u001b[39m_forward_hooks \u001b[38;5;129;01mor\u001b[39;00m \u001b[38;5;28mself\u001b[39m\u001b[38;5;241m.\u001b[39m_forward_pre_hooks\n\u001b[1;32m   1525\u001b[0m         \u001b[38;5;129;01mor\u001b[39;00m _global_backward_pre_hooks \u001b[38;5;129;01mor\u001b[39;00m _global_backward_hooks\n\u001b[1;32m   1526\u001b[0m         \u001b[38;5;129;01mor\u001b[39;00m _global_forward_hooks \u001b[38;5;129;01mor\u001b[39;00m _global_forward_pre_hooks):\n\u001b[0;32m-> 1527\u001b[0m     \u001b[38;5;28;01mreturn\u001b[39;00m \u001b[43mforward_call\u001b[49m\u001b[43m(\u001b[49m\u001b[38;5;241;43m*\u001b[39;49m\u001b[43margs\u001b[49m\u001b[43m,\u001b[49m\u001b[43m \u001b[49m\u001b[38;5;241;43m*\u001b[39;49m\u001b[38;5;241;43m*\u001b[39;49m\u001b[43mkwargs\u001b[49m\u001b[43m)\u001b[49m\n\u001b[1;32m   1529\u001b[0m \u001b[38;5;28;01mtry\u001b[39;00m:\n\u001b[1;32m   1530\u001b[0m     result \u001b[38;5;241m=\u001b[39m \u001b[38;5;28;01mNone\u001b[39;00m\n",
      "Cell \u001b[0;32mIn[2], line 30\u001b[0m, in \u001b[0;36mSequenceClassifier.forward\u001b[0;34m(self, x)\u001b[0m\n\u001b[1;32m     27\u001b[0m x \u001b[38;5;241m=\u001b[39m \u001b[38;5;28mself\u001b[39m\u001b[38;5;241m.\u001b[39membedding(x)  \u001b[38;5;66;03m# Expected shape: [batch_size, seq_len, embedding_dim]\u001b[39;00m\n\u001b[1;32m     29\u001b[0m \u001b[38;5;66;03m# Permute to match Conv1D input expectations: [batch_size, channels, seq_len]\u001b[39;00m\n\u001b[0;32m---> 30\u001b[0m x \u001b[38;5;241m=\u001b[39m \u001b[43mx\u001b[49m\u001b[38;5;241;43m.\u001b[39;49m\u001b[43mpermute\u001b[49m\u001b[43m(\u001b[49m\u001b[38;5;241;43m0\u001b[39;49m\u001b[43m,\u001b[49m\u001b[43m \u001b[49m\u001b[38;5;241;43m2\u001b[39;49m\u001b[43m,\u001b[49m\u001b[43m \u001b[49m\u001b[38;5;241;43m1\u001b[39;49m\u001b[43m)\u001b[49m\n\u001b[1;32m     32\u001b[0m \u001b[38;5;66;03m# 1D Convolutional layers\u001b[39;00m\n\u001b[1;32m     33\u001b[0m x \u001b[38;5;241m=\u001b[39m F\u001b[38;5;241m.\u001b[39mrelu(\u001b[38;5;28mself\u001b[39m\u001b[38;5;241m.\u001b[39mconv1(x))\n",
      "\u001b[0;31mRuntimeError\u001b[0m: permute(sparse_coo): number of dimensions in the tensor input does not match the length of the desired ordering of dimensions i.e. input.dim() = 4 is not equal to len(dims) = 3"
     ]
    }
   ],
   "source": [
    "criterion = nn.CrossEntropyLoss()\n",
    "optimizer = optim.Adam(model.parameters(), lr=0.001)\n",
    "epochs = 5\n",
    "mb = master_bar(range(1, epochs + 1))\n",
    "train_losses = []\n",
    "\n",
    "for epoch in mb:\n",
    "    running_loss = 0.0\n",
    "    for i, (inputs, labels) in enumerate(progress_bar(dataloader, parent=mb)):\n",
    "        inputs, labels = inputs.cuda(), labels.cuda()\n",
    "        inputs = inputs.squeeze(1)  # Adjust dimensions as necessary\n",
    "        \n",
    "        optimizer.zero_grad()\n",
    "        \n",
    "        outputs = model(inputs.long())\n",
    "        loss = criterion(outputs, labels)\n",
    "        \n",
    "        loss.backward()\n",
    "        optimizer.step()\n",
    "        \n",
    "        running_loss += loss.item()\n",
    "    \n",
    "    epoch_loss = running_loss / len(dataloader)\n",
    "    train_losses.append(epoch_loss)\n",
    "    mb.write(f'Epoch {epoch}/{epochs}, Training Loss: {epoch_loss:.4f}')\n",
    "    \n",
    "    # Update the loss plot\n",
    "    plot_loss_update(epoch, epochs, mb, train_losses)\n",
    "    \n",
    "print(\"Finished Training\")"
   ]
  },
  {
   "cell_type": "code",
   "execution_count": 24,
   "id": "0da6c102-c5ea-453e-85d1-fb65e9edc0f3",
   "metadata": {},
   "outputs": [
    {
     "data": {
      "text/plain": [
       "tensor([[ 777,  528,  245,  ...,  189,  189,  665],\n",
       "        [ 366,  837,   23,  ...,  324,  332,  658],\n",
       "        [ 493,  266,  585,  ...,  964,  155,  707],\n",
       "        ...,\n",
       "        [ 334, 1011,  183,  ...,  572,  912,  825],\n",
       "        [ 344,  534,  410,  ...,  277,  749,  544],\n",
       "        [  59,  845,  288,  ...,  270,  857, 1021]])"
      ]
     },
     "execution_count": 24,
     "metadata": {},
     "output_type": "execute_result"
    }
   ],
   "source": [
    "dataset[0]['codes'][0]"
   ]
  },
  {
   "cell_type": "code",
   "execution_count": 28,
   "id": "7a4b23a7-e0d4-42e2-b6e0-dcc8ebd57ff2",
   "metadata": {},
   "outputs": [
    {
     "data": {
      "text/plain": [
       "tensor([[ 777,  528,  245,  ...,  189,  189,  665],\n",
       "        [ 366,  837,   23,  ...,  324,  332,  658],\n",
       "        [ 493,  266,  585,  ...,  964,  155,  707],\n",
       "        ...,\n",
       "        [ 334, 1011,  183,  ...,  572,  912,  825],\n",
       "        [ 344,  534,  410,  ...,  277,  749,  544],\n",
       "        [  59,  845,  288,  ...,  270,  857, 1021]])"
      ]
     },
     "execution_count": 28,
     "metadata": {},
     "output_type": "execute_result"
    }
   ],
   "source": [
    "dataset[0]['codes'][0].squeeze()"
   ]
  },
  {
   "cell_type": "code",
   "execution_count": null,
   "id": "ef45ffef-d3a0-48c5-bd8f-07916437d906",
   "metadata": {},
   "outputs": [],
   "source": [
    "torch.squeeze"
   ]
  }
 ],
 "metadata": {
  "kernelspec": {
   "display_name": "Python 3 (ipykernel)",
   "language": "python",
   "name": "python3"
  },
  "language_info": {
   "codemirror_mode": {
    "name": "ipython",
    "version": 3
   },
   "file_extension": ".py",
   "mimetype": "text/x-python",
   "name": "python",
   "nbconvert_exporter": "python",
   "pygments_lexer": "ipython3",
   "version": "3.10.12"
  }
 },
 "nbformat": 4,
 "nbformat_minor": 5
}
