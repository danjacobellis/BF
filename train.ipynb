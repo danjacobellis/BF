{
 "cells": [
  {
   "cell_type": "code",
   "execution_count": 1,
   "id": "a3a95f0a-c11e-43a4-8ac7-a50518df3d00",
   "metadata": {},
   "outputs": [],
   "source": [
    "from datasets import load_dataset\n",
    "from torch.utils.data import DataLoader, Dataset\n",
    "import torch\n",
    "import torch.nn as nn\n",
    "import torch.nn.functional as F\n",
    "import torch.optim as optim\n",
    "import numpy as np\n",
    "from fastprogress.fastprogress import master_bar, progress_bar"
   ]
  },
  {
   "cell_type": "code",
   "execution_count": 2,
   "id": "ef45ffef-d3a0-48c5-bd8f-07916437d906",
   "metadata": {},
   "outputs": [],
   "source": [
    "class SequenceModel(nn.Module):\n",
    "    def __init__(self):\n",
    "        super(SequenceModel, self).__init__()\n",
    "        self.num_positions = 9\n",
    "        self.num_embeddings = 1024\n",
    "        self.embedding_dim = 6\n",
    "        \n",
    "        self.embeddings = nn.ModuleList([\n",
    "            nn.Embedding(num_embeddings=self.num_embeddings, embedding_dim=self.embedding_dim) \n",
    "            for _ in range(self.num_positions)\n",
    "        ])\n",
    "        \n",
    "        self.conv1 = nn.Conv1d(in_channels=54,  out_channels=72,  kernel_size=3, stride=3)\n",
    "        self.conv2 = nn.Conv1d(in_channels=72,  out_channels=120, kernel_size=3, stride=3)\n",
    "        \n",
    "        self.fc1 = nn.Linear(120, 120)\n",
    "        self.fc2 = nn.Linear(120, 24)\n",
    "    \n",
    "    def forward(self, x):\n",
    "        batch_size = x.shape[0]\n",
    "        embeddings = [self.embeddings[i](x[:, :, i]) for i in range(self.num_positions)]\n",
    "        embeddings = torch.stack(embeddings, dim=3)\n",
    "        reshaped = embeddings.view(batch_size, 54, -1)\n",
    "        x = F.relu(self.conv1(reshaped))\n",
    "        x = F.relu(self.conv2(x))\n",
    "        x = x.view(batch_size, -1)\n",
    "        x = F.relu(self.fc1(x))\n",
    "        x = self.fc2(x)\n",
    "        return x"
   ]
  },
  {
   "cell_type": "code",
   "execution_count": 3,
   "id": "13465be5-b360-4a0f-b2ae-e78135e8a408",
   "metadata": {},
   "outputs": [],
   "source": [
    "dataset = load_dataset(\"danjacobellis/audio_har_descript_44kHz_frames\",split='train').with_format(\"torch\",device=\"cuda\")\n",
    "dataloader = DataLoader(dataset, batch_size=16)\n",
    "model = SequenceModel().to(\"cuda\")\n",
    "loss_function = nn.CrossEntropyLoss()\n",
    "optimizer = optim.AdamW(model.parameters(), lr=0.001)"
   ]
  },
  {
   "cell_type": "code",
   "execution_count": 4,
   "id": "b083db30-c219-4c63-be84-d5433297617d",
   "metadata": {},
   "outputs": [
    {
     "data": {
      "text/html": [
       "\n",
       "<style>\n",
       "    /* Turns off some styling */\n",
       "    progress {\n",
       "        /* gets rid of default border in Firefox and Opera. */\n",
       "        border: none;\n",
       "        /* Needs to be in here for Safari polyfill so background images work as expected. */\n",
       "        background-size: auto;\n",
       "    }\n",
       "    progress:not([value]), progress:not([value])::-webkit-progress-bar {\n",
       "        background: repeating-linear-gradient(45deg, #7e7e7e, #7e7e7e 10px, #5c5c5c 10px, #5c5c5c 20px);\n",
       "    }\n",
       "    .progress-bar-interrupted, .progress-bar-interrupted::-webkit-progress-bar {\n",
       "        background: #F44336;\n",
       "    }\n",
       "</style>\n"
      ],
      "text/plain": [
       "<IPython.core.display.HTML object>"
      ]
     },
     "metadata": {},
     "output_type": "display_data"
    },
    {
     "data": {
      "text/html": [
       "Epoch 1: Train Loss: 3.0116<p>Epoch 2: Train Loss: 2.7691<p>Epoch 3: Train Loss: 2.6093<p>Epoch 4: Train Loss: 2.4578<p>Epoch 5: Train Loss: 2.3066<p>Epoch 6: Train Loss: 2.1496<p>Epoch 7: Train Loss: 1.9891<p>Epoch 8: Train Loss: 1.8198<p>Epoch 9: Train Loss: 1.6474<p>Epoch 10: Train Loss: 1.4909"
      ],
      "text/plain": [
       "<IPython.core.display.HTML object>"
      ]
     },
     "metadata": {},
     "output_type": "display_data"
    },
    {
     "data": {
      "image/png": "[encoded data removed]",
      "text/plain": [
       "<Figure size 600x400 with 1 Axes>"
      ]
     },
     "metadata": {},
     "output_type": "display_data"
    }
   ],
   "source": [
    "epochs = 10\n",
    "mb = master_bar(range(1, epochs + 1))\n",
    "train_loss = []\n",
    "\n",
    "for epoch in mb:\n",
    "    model.train()\n",
    "    running_loss = 0.0\n",
    "    for inputs in progress_bar(dataloader, parent=mb):\n",
    "        codes = inputs['codes'].to(torch.int64)\n",
    "        targets = inputs['label']\n",
    "        one_hot_targets = F.one_hot(targets, num_classes=24).to(torch.float)\n",
    "\n",
    "        optimizer.zero_grad()\n",
    "        outputs = model(codes)\n",
    "        loss = loss_function(outputs, targets)\n",
    "        loss.backward()\n",
    "        optimizer.step()\n",
    "        running_loss += loss.item()\n",
    "\n",
    "    epoch_loss = running_loss / len(dataloader)\n",
    "    train_loss.append(epoch_loss)\n",
    "\n",
    "    mb.write(f'Epoch {epoch}: Train Loss: {epoch_loss:.4f}')\n",
    "    \n",
    "    graphs = [[range(1, epoch + 1), train_loss]]\n",
    "    x_bounds = [1, epochs]\n",
    "    y_bounds = [min(train_loss) - 0.05, max(train_loss) + 0.05]\n",
    "    mb.update_graph(graphs, x_bounds, y_bounds)"
   ]
  }
 ],
 "metadata": {
  "kernelspec": {
   "display_name": "Python 3 (ipykernel)",
   "language": "python",
   "name": "python3"
  },
  "language_info": {
   "codemirror_mode": {
    "name": "ipython",
    "version": 3
   },
   "file_extension": ".py",
   "mimetype": "text/x-python",
   "name": "python",
   "nbconvert_exporter": "python",
   "pygments_lexer": "ipython3",
   "version": "3.10.12"
  }
 },
 "nbformat": 4,
 "nbformat_minor": 5
}
