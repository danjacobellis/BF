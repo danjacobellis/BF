{
 "cells": [
  {
   "cell_type": "code",
   "execution_count": 1,
   "id": "a3a95f0a-c11e-43a4-8ac7-a50518df3d00",
   "metadata": {},
   "outputs": [],
   "source": [
    "from datasets import load_dataset\n",
    "from torch.utils.data import DataLoader, Dataset\n",
    "import torch\n",
    "import torch.nn as nn\n",
    "import torch.nn.functional as F\n",
    "import torch.optim as optim\n",
    "import numpy as np\n",
    "from fastprogress.fastprogress import master_bar, progress_bar"
   ]
  },
  {
   "cell_type": "code",
   "execution_count": 6,
   "id": "ef45ffef-d3a0-48c5-bd8f-07916437d906",
   "metadata": {},
   "outputs": [],
   "source": [
    "class SequenceModel(nn.Module):\n",
    "    def __init__(self):\n",
    "        super(SequenceModel, self).__init__()\n",
    "        self.num_positions = 9\n",
    "        self.num_embeddings = 1024\n",
    "        self.embedding_dim = 6\n",
    "        \n",
    "        self.embeddings = nn.ModuleList([\n",
    "            nn.Embedding(num_embeddings=self.num_embeddings, embedding_dim=self.embedding_dim) \n",
    "            for _ in range(self.num_positions)\n",
    "        ])\n",
    "        \n",
    "        self.conv1 = nn.Conv1d(in_channels=54,  out_channels=72,  kernel_size=3, stride=3)\n",
    "        self.conv2 = nn.Conv1d(in_channels=72,  out_channels=120, kernel_size=3, stride=3)\n",
    "        \n",
    "        # Fully connected layers\n",
    "        self.fc1 = nn.Linear(120, 120)\n",
    "        self.fc2 = nn.Linear(120, 24)\n",
    "    \n",
    "    def forward(self, x):\n",
    "        batch_size = x.shape[0]\n",
    "        embeddings = [self.embeddings[i](x[:, :, i]) for i in range(self.num_positions)]\n",
    "        embeddings = torch.stack(embeddings, dim=3)\n",
    "        reshaped = embeddings.view(batch_size, 54, -1)\n",
    "        x = F.relu(self.conv1(reshaped))\n",
    "        x = F.relu(self.conv2(x))\n",
    "        x = x.view(batch_size, -1)\n",
    "        x = F.relu(self.fc1(x))\n",
    "        x = self.fc2(x)\n",
    "        \n",
    "        return x"
   ]
  },
  {
   "cell_type": "code",
   "execution_count": 7,
   "id": "b083db30-c219-4c63-be84-d5433297617d",
   "metadata": {},
   "outputs": [],
   "source": [
    "dataset = load_dataset(\"danjacobellis/audio_har_descript_44kHz_frames\",split='train').with_format(\"torch\")\n",
    "model = SequenceModel()"
   ]
  },
  {
   "cell_type": "code",
   "execution_count": 15,
   "id": "5736fb7f-b30d-4fda-9cce-c2724d8a0487",
   "metadata": {},
   "outputs": [],
   "source": [
    "example_input = dataset[0:5]['codes'].to(torch.int)"
   ]
  },
  {
   "cell_type": "code",
   "execution_count": 16,
   "id": "9ea1d5d0-7faa-470c-98df-74366b053e7f",
   "metadata": {},
   "outputs": [],
   "source": [
    "with torch.no_grad():\n",
    "    y = model(example_input)"
   ]
  }
 ],
 "metadata": {
  "kernelspec": {
   "display_name": "Python 3 (ipykernel)",
   "language": "python",
   "name": "python3"
  },
  "language_info": {
   "codemirror_mode": {
    "name": "ipython",
    "version": 3
   },
   "file_extension": ".py",
   "mimetype": "text/x-python",
   "name": "python",
   "nbconvert_exporter": "python",
   "pygments_lexer": "ipython3",
   "version": "3.10.12"
  }
 },
 "nbformat": 4,
 "nbformat_minor": 5
}
