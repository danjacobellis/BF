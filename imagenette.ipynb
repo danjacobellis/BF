{
 "cells": [
  {
   "cell_type": "code",
   "execution_count": 1,
   "id": "75ab9b8d-ec3c-4f44-8e87-aa4bd7a55b78",
   "metadata": {},
   "outputs": [
    {
     "name": "stderr",
     "output_type": "stream",
     "text": [
      "/home/server/danjacobellis/BF/convnext.py:159: UserWarning: Overwriting convnext_tiny in registry with convnext.convnext_tiny. This is because the name being registered conflicts with an existing name. Please check if this is not expected.\n",
      "  def convnext_tiny(pretrained=False,in_22k=False, **kwargs):\n",
      "/home/server/danjacobellis/BF/convnext.py:168: UserWarning: Overwriting convnext_small in registry with convnext.convnext_small. This is because the name being registered conflicts with an existing name. Please check if this is not expected.\n",
      "  def convnext_small(pretrained=False,in_22k=False, **kwargs):\n",
      "/home/server/danjacobellis/BF/convnext.py:177: UserWarning: Overwriting convnext_base in registry with convnext.convnext_base. This is because the name being registered conflicts with an existing name. Please check if this is not expected.\n",
      "  def convnext_base(pretrained=False, in_22k=False, **kwargs):\n",
      "/home/server/danjacobellis/BF/convnext.py:186: UserWarning: Overwriting convnext_large in registry with convnext.convnext_large. This is because the name being registered conflicts with an existing name. Please check if this is not expected.\n",
      "  def convnext_large(pretrained=False, in_22k=False, **kwargs):\n",
      "/home/server/danjacobellis/BF/convnext.py:195: UserWarning: Overwriting convnext_xlarge in registry with convnext.convnext_xlarge. This is because the name being registered conflicts with an existing name. Please check if this is not expected.\n",
      "  def convnext_xlarge(pretrained=False, in_22k=False, **kwargs):\n"
     ]
    }
   ],
   "source": [
    "import torch\n",
    "import torch.nn as nn\n",
    "import torch.optim as optim\n",
    "from datasets import load_dataset\n",
    "from torch.utils.data import DataLoader, Dataset\n",
    "from convnext import ConvNeXt\n",
    "from fastprogress.fastprogress import master_bar, progress_bar\n",
    "from torchvision.transforms import RandomResizedCrop, CenterCrop, Resize, RandomHorizontalFlip, Compose\n",
    "from torch.optim import AdamW\n",
    "from torch.optim.lr_scheduler import CosineAnnealingWarmRestarts"
   ]
  },
  {
   "cell_type": "code",
   "execution_count": 2,
   "id": "70b31d2e-9bc5-4c5c-b780-3f0a94a3a669",
   "metadata": {},
   "outputs": [],
   "source": [
    "train_dataset = load_dataset(\"frgfm/imagenette\",\"full_size\",split=\"train\")\n",
    "valid_dataset = load_dataset(\"frgfm/imagenette\",\"full_size\",split=\"validation\")\n",
    "rgb_train = train_dataset.filter(lambda s: s[\"image\"].mode == \"RGB\").with_format(\"torch\")\n",
    "rgb_valid = valid_dataset.filter(lambda s: s[\"image\"].mode == \"RGB\").with_format(\"torch\")"
   ]
  },
  {
   "cell_type": "code",
   "execution_count": 3,
   "id": "53695141-a7c7-4512-91c2-a34eb006d80b",
   "metadata": {},
   "outputs": [],
   "source": [
    "def custom_collate_fn(batch):\n",
    "    train_transforms = Compose(\n",
    "        [\n",
    "            RandomResizedCrop(256, scale=(0.5,1.0), ratio=(0.8, 1.25)),\n",
    "            RandomHorizontalFlip(),\n",
    "        ]\n",
    "    )\n",
    "    images = torch.stack([train_transforms(item['image'].permute(2,0,1).to(torch.float)/255) for item in batch])\n",
    "    labels = torch.tensor([item['label'] for item in batch], dtype=torch.int64)\n",
    "    return images, labels\n",
    "\n",
    "val_transforms = Compose(\n",
    "    [\n",
    "        Resize(256,antialias=True),\n",
    "        CenterCrop(256),\n",
    "    ]\n",
    ")"
   ]
  },
  {
   "cell_type": "code",
   "execution_count": 4,
   "id": "0f8ed3c7-2df0-4717-8d75-55f50f221033",
   "metadata": {},
   "outputs": [],
   "source": [
    "classifier = ConvNeXt(in_chans=3,\n",
    "                      num_classes=10,\n",
    "                      depths=[3, 3, 9, 3],\n",
    "                      dims=[96, 192, 384, 768],\n",
    "                      drop_path_rate=0.,\n",
    "                      layer_scale_init_value=1e-6,\n",
    "                      head_init_scale=1.).cuda()"
   ]
  },
  {
   "cell_type": "code",
   "execution_count": 5,
   "id": "a3d76441-74bd-4756-adb1-19e0c7ce1a13",
   "metadata": {},
   "outputs": [],
   "source": [
    "epochs = 200\n",
    "batch_size = 96\n",
    "accumulation_steps = 96//batch_size\n",
    "\n",
    "loss_function = nn.CrossEntropyLoss(label_smoothing=0.1)\n",
    "optimizer = AdamW(classifier.parameters(), lr=0.005, weight_decay=1e-4)\n",
    "scheduler = CosineAnnealingWarmRestarts(optimizer, T_0=10, T_mult=2, eta_min=1e-6)\n",
    "\n",
    "train_loss = []\n",
    "test_loss = []\n",
    "val_accuracy = []"
   ]
  },
  {
   "cell_type": "code",
   "execution_count": null,
   "id": "0eb619c6-31a3-4ee5-a587-c70e30e82519",
   "metadata": {},
   "outputs": [
    {
     "data": {
      "text/html": [
       "\n",
       "<style>\n",
       "    /* Turns off some styling */\n",
       "    progress {\n",
       "        /* gets rid of default border in Firefox and Opera. */\n",
       "        border: none;\n",
       "        /* Needs to be in here for Safari polyfill so background images work as expected. */\n",
       "        background-size: auto;\n",
       "    }\n",
       "    progress:not([value]), progress:not([value])::-webkit-progress-bar {\n",
       "        background: repeating-linear-gradient(45deg, #7e7e7e, #7e7e7e 10px, #5c5c5c 10px, #5c5c5c 20px);\n",
       "    }\n",
       "    .progress-bar-interrupted, .progress-bar-interrupted::-webkit-progress-bar {\n",
       "        background: #F44336;\n",
       "    }\n",
       "</style>\n"
      ],
      "text/plain": [
       "<IPython.core.display.HTML object>"
      ]
     },
     "metadata": {},
     "output_type": "display_data"
    },
    {
     "data": {
      "text/html": [
       "\n",
       "    <div>\n",
       "      <progress value='99' class='' max='200' style='width:300px; height:20px; vertical-align: middle;'></progress>\n",
       "      49.50% [99/200 2:38:28&lt;2:41:40]\n",
       "    </div>\n",
       "    \n",
       "\n",
       "\n",
       "    <div>\n",
       "      <progress value='96' class='' max='96' style='width:300px; height:20px; vertical-align: middle;'></progress>\n",
       "      100.00% [96/96 00:45&lt;00:00]\n",
       "    </div>\n",
       "    "
      ],
      "text/plain": [
       "<IPython.core.display.HTML object>"
      ]
     },
     "metadata": {},
     "output_type": "display_data"
    },
    {
     "name": "stdout",
     "output_type": "stream",
     "text": [
      "Epoch: 1, Accuracy: 0.0915\n"
     ]
    },
    {
     "data": {
      "image/png": "[encoded data removed]",
      "text/plain": [
       "<Figure size 600x400 with 1 Axes>"
      ]
     },
     "metadata": {},
     "output_type": "display_data"
    },
    {
     "name": "stderr",
     "output_type": "stream",
     "text": [
      "/home/server/.local/lib/python3.10/site-packages/fastprogress/fastprogress.py:206: UserWarning: Attempting to set identical low and high xlims makes transformation singular; automatically expanding.\n",
      "  if x_bounds is not None: self.graph_ax.set_xlim(*x_bounds)\n"
     ]
    },
    {
     "name": "stdout",
     "output_type": "stream",
     "text": [
      "Epoch: 2, Accuracy: 0.0910\n",
      "Epoch: 3, Accuracy: 0.1841\n",
      "Epoch: 4, Accuracy: 0.1849\n",
      "Epoch: 5, Accuracy: 0.2251\n",
      "Epoch: 6, Accuracy: 0.2565\n",
      "Epoch: 7, Accuracy: 0.2824\n",
      "Epoch: 8, Accuracy: 0.3019\n",
      "Epoch: 9, Accuracy: 0.3130\n",
      "Epoch: 10, Accuracy: 0.3229\n",
      "Epoch: 11, Accuracy: 0.2915\n",
      "Epoch: 12, Accuracy: 0.3252\n",
      "Epoch: 13, Accuracy: 0.3568\n",
      "Epoch: 14, Accuracy: 0.3667\n",
      "Epoch: 15, Accuracy: 0.3517\n",
      "Epoch: 16, Accuracy: 0.3862\n",
      "Epoch: 17, Accuracy: 0.4027\n",
      "Epoch: 18, Accuracy: 0.4225\n",
      "Epoch: 19, Accuracy: 0.4564\n",
      "Epoch: 20, Accuracy: 0.4629\n",
      "Epoch: 21, Accuracy: 0.4912\n",
      "Epoch: 22, Accuracy: 0.5124\n",
      "Epoch: 23, Accuracy: 0.5324\n",
      "Epoch: 24, Accuracy: 0.5350\n",
      "Epoch: 25, Accuracy: 0.5604\n",
      "Epoch: 26, Accuracy: 0.5511\n",
      "Epoch: 27, Accuracy: 0.5654\n",
      "Epoch: 28, Accuracy: 0.5827\n",
      "Epoch: 29, Accuracy: 0.5832\n",
      "Epoch: 30, Accuracy: 0.5845\n",
      "Epoch: 31, Accuracy: 0.5446\n",
      "Epoch: 32, Accuracy: 0.5866\n",
      "Epoch: 33, Accuracy: 0.5851\n",
      "Epoch: 34, Accuracy: 0.6138\n",
      "Epoch: 35, Accuracy: 0.6167\n",
      "Epoch: 36, Accuracy: 0.6330\n",
      "Epoch: 37, Accuracy: 0.6468\n",
      "Epoch: 38, Accuracy: 0.6445\n",
      "Epoch: 39, Accuracy: 0.6862\n",
      "Epoch: 40, Accuracy: 0.6846\n",
      "Epoch: 41, Accuracy: 0.6898\n",
      "Epoch: 42, Accuracy: 0.7101\n",
      "Epoch: 43, Accuracy: 0.7103\n",
      "Epoch: 44, Accuracy: 0.7337\n",
      "Epoch: 45, Accuracy: 0.7363\n",
      "Epoch: 46, Accuracy: 0.7425\n",
      "Epoch: 47, Accuracy: 0.7539\n",
      "Epoch: 48, Accuracy: 0.7541\n",
      "Epoch: 49, Accuracy: 0.7549\n",
      "Epoch: 50, Accuracy: 0.7521\n",
      "Epoch: 51, Accuracy: 0.7710\n",
      "Epoch: 52, Accuracy: 0.7752\n",
      "Epoch: 53, Accuracy: 0.7671\n",
      "Epoch: 54, Accuracy: 0.7713\n",
      "Epoch: 55, Accuracy: 0.7733\n",
      "Epoch: 56, Accuracy: 0.7702\n",
      "Epoch: 57, Accuracy: 0.7739\n",
      "Epoch: 58, Accuracy: 0.7868\n",
      "Epoch: 59, Accuracy: 0.7803\n",
      "Epoch: 60, Accuracy: 0.7850\n",
      "Epoch: 61, Accuracy: 0.7842\n",
      "Epoch: 62, Accuracy: 0.7925\n",
      "Epoch: 63, Accuracy: 0.7902\n",
      "Epoch: 64, Accuracy: 0.7907\n",
      "Epoch: 65, Accuracy: 0.7879\n",
      "Epoch: 66, Accuracy: 0.7897\n",
      "Epoch: 67, Accuracy: 0.7941\n",
      "Epoch: 68, Accuracy: 0.7923\n",
      "Epoch: 69, Accuracy: 0.7925\n",
      "Epoch: 70, Accuracy: 0.7930\n",
      "Epoch: 71, Accuracy: 0.7412\n",
      "Epoch: 72, Accuracy: 0.7599\n",
      "Epoch: 73, Accuracy: 0.7622\n",
      "Epoch: 74, Accuracy: 0.7433\n",
      "Epoch: 75, Accuracy: 0.7702\n",
      "Epoch: 76, Accuracy: 0.7630\n",
      "Epoch: 77, Accuracy: 0.7814\n",
      "Epoch: 78, Accuracy: 0.7759\n",
      "Epoch: 79, Accuracy: 0.7736\n",
      "Epoch: 80, Accuracy: 0.7713\n",
      "Epoch: 81, Accuracy: 0.7899\n",
      "Epoch: 82, Accuracy: 0.7723\n",
      "Epoch: 83, Accuracy: 0.7772\n",
      "Epoch: 84, Accuracy: 0.7692\n",
      "Epoch: 85, Accuracy: 0.7775\n",
      "Epoch: 86, Accuracy: 0.7840\n",
      "Epoch: 87, Accuracy: 0.7871\n",
      "Epoch: 88, Accuracy: 0.7759\n",
      "Epoch: 89, Accuracy: 0.7873\n",
      "Epoch: 90, Accuracy: 0.7835\n",
      "Epoch: 91, Accuracy: 0.7933\n",
      "Epoch: 92, Accuracy: 0.7899\n",
      "Epoch: 93, Accuracy: 0.7933\n",
      "Epoch: 94, Accuracy: 0.7918\n",
      "Epoch: 95, Accuracy: 0.7967\n",
      "Epoch: 96, Accuracy: 0.7840\n",
      "Epoch: 97, Accuracy: 0.7943\n",
      "Epoch: 98, Accuracy: 0.7936\n",
      "Epoch: 99, Accuracy: 0.8026\n",
      "0.5788516998291016\r"
     ]
    }
   ],
   "source": [
    "mb = master_bar(range(1, epochs + 1))\n",
    "\n",
    "for epoch in mb:\n",
    "    \n",
    "    dataloader_train = DataLoader(rgb_train, batch_size=batch_size, shuffle=True, drop_last=True, num_workers=12, collate_fn=custom_collate_fn)\n",
    "    dataloader_valid = DataLoader(rgb_valid, batch_size=1, shuffle=False, drop_last=False)\n",
    "\n",
    "    # Training\n",
    "    classifier.train()\n",
    "    optimizer.zero_grad()\n",
    "    running_loss = 0.0\n",
    "    for i_batch, (x, target) in enumerate(progress_bar(dataloader_train, parent=mb)):\n",
    "        x = x.cuda()\n",
    "        outputs = classifier(x)\n",
    "        loss = loss_function(outputs, target.cuda())\n",
    "        loss.backward()\n",
    "        print(loss.item(), end='\\r')\n",
    "        running_loss += loss.item()\n",
    "\n",
    "        if (i_batch + 1) % accumulation_steps == 0:\n",
    "            optimizer.step()\n",
    "            optimizer.zero_grad()\n",
    "\n",
    "    train_epoch_loss = running_loss / len(dataloader_train)\n",
    "    train_loss.append(train_epoch_loss)\n",
    "    \n",
    "    # Validation\n",
    "    classifier.eval()\n",
    "    running_loss_val = 0.0\n",
    "    correct_predictions = 0\n",
    "    total_predictions = 0\n",
    "    with torch.no_grad():\n",
    "        for inputs in dataloader_valid:\n",
    "            x = inputs['image'].permute(0,3,1,2).to(torch.float)/255\n",
    "            x = val_transforms(x).cuda()\n",
    "            targets = inputs['label'].to(torch.int64).cuda()\n",
    "            outputs = classifier(x)\n",
    "            loss = loss_function(outputs, targets)\n",
    "            running_loss_val += loss.item()\n",
    "            _, predicted = torch.max(outputs, 1)\n",
    "            correct_predictions += (predicted == targets).sum().item()\n",
    "            total_predictions += targets.size(0)\n",
    "    val_epoch_loss = running_loss_val / len(dataloader_valid)\n",
    "    test_loss.append(val_epoch_loss)\n",
    "    epoch_accuracy = correct_predictions / total_predictions\n",
    "    print(f'Epoch: {epoch}, Accuracy: {epoch_accuracy:.4f}')\n",
    "    val_accuracy.append(epoch_accuracy)\n",
    "    graphs = [\n",
    "        [range(1, epoch + 1), train_loss],  # Training Loss\n",
    "        [range(1, epoch + 1), test_loss],  # Validation Loss\n",
    "    ]\n",
    "    x_bounds = [1, epoch]\n",
    "    y_bounds = [min(min(train_loss + test_loss) - 0.05, 0), max(max(train_loss + test_loss) + 0.05, 1)]\n",
    "    mb.update_graph(graphs, x_bounds, y_bounds)\n",
    "    scheduler.step()"
   ]
  },
  {
   "cell_type": "code",
   "execution_count": null,
   "id": "f753200f-91a1-4c65-80b1-fe94f84ec7a7",
   "metadata": {},
   "outputs": [],
   "source": [
    "checkpoint_filename = f'convnext_imagenette_ls_e{epoch}.pt'\n",
    "checkpoint = {\n",
    "    'model_state_dict': classifier.state_dict(),\n",
    "    'optimizer_state_dict': optimizer.state_dict(),\n",
    "    'scheduler_state_dict': scheduler.state_dict(),\n",
    "    'epoch': epoch,\n",
    "    'train_loss': train_loss,\n",
    "    'test_loss': test_loss,\n",
    "    'val_accuracy': val_accuracy\n",
    "}\n",
    "torch.save(checkpoint, checkpoint_filename)"
   ]
  }
 ],
 "metadata": {
  "kernelspec": {
   "display_name": "Python 3 (ipykernel)",
   "language": "python",
   "name": "python3"
  },
  "language_info": {
   "codemirror_mode": {
    "name": "ipython",
    "version": 3
   },
   "file_extension": ".py",
   "mimetype": "text/x-python",
   "name": "python",
   "nbconvert_exporter": "python",
   "pygments_lexer": "ipython3",
   "version": "3.10.12"
  }
 },
 "nbformat": 4,
 "nbformat_minor": 5
}
