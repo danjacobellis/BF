{
 "cells": [
  {
   "cell_type": "code",
   "execution_count": 1,
   "id": "75ab9b8d-ec3c-4f44-8e87-aa4bd7a55b78",
   "metadata": {},
   "outputs": [
    {
     "name": "stderr",
     "output_type": "stream",
     "text": [
      "/home/dgj335/.local/lib/python3.10/site-packages/beartype/_util/error/utilerrwarn.py:67: BeartypeModuleUnimportableWarning: Ignoring module \"onnx\" importation exception:\n",
      "    ImportError: cannot import name 'builder' from 'google.protobuf.internal' (/home/dgj335/.local/lib/python3.10/site-packages/google/protobuf/internal/__init__.py)\n",
      "  warn(message, cls)\n",
      "/home/dgj335/.local/lib/python3.10/site-packages/beartype/_util/error/utilerrwarn.py:67: BeartypeModuleUnimportableWarning: Ignoring module \"onnx\" importation exception:\n",
      "    ImportError: cannot import name 'builder' from 'google.protobuf.internal' (/home/dgj335/.local/lib/python3.10/site-packages/google/protobuf/internal/__init__.py)\n",
      "  warn(message, cls)\n"
     ]
    }
   ],
   "source": [
    "import torch\n",
    "import torch.nn as nn\n",
    "import torch.optim as optim\n",
    "from datasets import load_dataset\n",
    "from torch.utils.data import DataLoader, Dataset\n",
    "from vit_pytorch import SimpleViT\n",
    "from fastprogress.fastprogress import master_bar, progress_bar\n",
    "from torchvision.transforms import RandomResizedCrop, CenterCrop, Resize, RandomHorizontalFlip, Compose, ToTensor\n",
    "from torch.optim.lr_scheduler import CosineAnnealingLR"
   ]
  },
  {
   "cell_type": "code",
   "execution_count": null,
   "id": "70b31d2e-9bc5-4c5c-b780-3f0a94a3a669",
   "metadata": {},
   "outputs": [
    {
     "name": "stderr",
     "output_type": "stream",
     "text": [
      "/home/dgj335/.local/lib/python3.10/site-packages/datasets/load.py:1461: FutureWarning: The repository for frgfm/imagenette contains custom code which must be executed to correctly load the dataset. You can inspect the repository content at https://hf.co/datasets/frgfm/imagenette\n",
      "You can avoid this message in future by passing the argument `trust_remote_code=True`.\n",
      "Passing `trust_remote_code=True` will be mandatory to load this dataset from the next major release of `datasets`.\n",
      "  warnings.warn(\n"
     ]
    },
    {
     "data": {
      "application/vnd.jupyter.widget-view+json": {
       "model_id": "0d789994de334ed6b280ca2c4263c31a",
       "version_major": 2,
       "version_minor": 0
      },
      "text/plain": [
       "Downloading builder script:   0%|          | 0.00/5.31k [00:00<?, ?B/s]"
      ]
     },
     "metadata": {},
     "output_type": "display_data"
    },
    {
     "data": {
      "application/vnd.jupyter.widget-view+json": {
       "model_id": "b4b5c540ee104e118bce3ca00dfa40a7",
       "version_major": 2,
       "version_minor": 0
      },
      "text/plain": [
       "Downloading metadata:   0%|          | 0.00/7.25k [00:00<?, ?B/s]"
      ]
     },
     "metadata": {},
     "output_type": "display_data"
    },
    {
     "data": {
      "application/vnd.jupyter.widget-view+json": {
       "model_id": "0457c85e70ad43b98ac2fd2d4bf13b4c",
       "version_major": 2,
       "version_minor": 0
      },
      "text/plain": [
       "Downloading readme:   0%|          | 0.00/4.63k [00:00<?, ?B/s]"
      ]
     },
     "metadata": {},
     "output_type": "display_data"
    },
    {
     "data": {
      "application/vnd.jupyter.widget-view+json": {
       "model_id": "ed7ddede1d014e47836441948601fb24",
       "version_major": 2,
       "version_minor": 0
      },
      "text/plain": [
       "Downloading data:   0%|          | 0.00/1.56G [00:00<?, ?B/s]"
      ]
     },
     "metadata": {},
     "output_type": "display_data"
    }
   ],
   "source": [
    "train_dataset = load_dataset(\"frgfm/imagenette\",\"full_size\",split=\"train\")\n",
    "valid_dataset = load_dataset(\"frgfm/imagenette\",\"full_size\",split=\"validation\")\n",
    "rgb_train = train_dataset.filter(lambda s: s[\"image\"].mode == \"RGB\").with_format(\"torch\")\n",
    "rgb_valid = valid_dataset.filter(lambda s: s[\"image\"].mode == \"RGB\").with_format(\"torch\")"
   ]
  },
  {
   "cell_type": "code",
   "execution_count": null,
   "id": "53695141-a7c7-4512-91c2-a34eb006d80b",
   "metadata": {},
   "outputs": [],
   "source": [
    "def custom_collate_fn(batch):\n",
    "    train_transforms = Compose(\n",
    "        [\n",
    "            RandomResizedCrop(256, scale=(0.5,1.0), ratio=(0.8, 1.25)),\n",
    "            RandomHorizontalFlip(),\n",
    "        ]\n",
    "    )\n",
    "    images = torch.stack([train_transforms(item['image'].permute(2,0,1).to(torch.float)/255) for item in batch])\n",
    "    labels = torch.tensor([item['label'] for item in batch], dtype=torch.int64)\n",
    "    return images, labels\n",
    "\n",
    "val_transforms = Compose(\n",
    "    [\n",
    "        Resize(256,antialias=True),\n",
    "        CenterCrop(256),\n",
    "    ]\n",
    ")"
   ]
  },
  {
   "cell_type": "code",
   "execution_count": null,
   "id": "0f8ed3c7-2df0-4717-8d75-55f50f221033",
   "metadata": {},
   "outputs": [],
   "source": [
    "vit = SimpleViT(\n",
    "    image_size = 256,\n",
    "    patch_size = 16,\n",
    "    num_classes = 10,\n",
    "    dim = 384,\n",
    "    depth = 12,\n",
    "    heads = 6,\n",
    "    mlp_dim = 1536\n",
    ").cuda()"
   ]
  },
  {
   "cell_type": "code",
   "execution_count": null,
   "id": "a3d76441-74bd-4756-adb1-19e0c7ce1a13",
   "metadata": {},
   "outputs": [],
   "source": [
    "epochs = 90\n",
    "batch_size = 96\n",
    "accumulation_steps = 96//batch_size\n",
    "\n",
    "loss_function = nn.CrossEntropyLoss()\n",
    "optimizer = optim.AdamW(vit.parameters(), lr=0.001)\n",
    "scheduler = CosineAnnealingLR(optimizer, T_max=epochs, eta_min=0)\n",
    "\n",
    "train_loss = []\n",
    "test_loss = []\n",
    "val_accuracy = []"
   ]
  },
  {
   "cell_type": "code",
   "execution_count": null,
   "id": "0eb619c6-31a3-4ee5-a587-c70e30e82519",
   "metadata": {},
   "outputs": [],
   "source": [
    "mb = master_bar(range(1, epochs + 1))\n",
    "\n",
    "for epoch in mb:\n",
    "    \n",
    "    dataloader_train = DataLoader(rgb_train, batch_size=batch_size, shuffle=True, drop_last=True, num_workers=12, collate_fn=custom_collate_fn)\n",
    "    dataloader_valid = DataLoader(rgb_valid, batch_size=1, shuffle=False, drop_last=False)\n",
    "\n",
    "    # Training\n",
    "    vit.train()\n",
    "    optimizer.zero_grad()\n",
    "    running_loss = 0.0\n",
    "    for i_batch, (x, target) in enumerate(progress_bar(dataloader_train, parent=mb)):\n",
    "        x = x.cuda()\n",
    "        outputs = vit(x)\n",
    "        loss = loss_function(outputs, target.cuda())\n",
    "        loss.backward()\n",
    "        print(loss.item(), end='\\r')\n",
    "        running_loss += loss.item()\n",
    "\n",
    "        if (i_batch + 1) % accumulation_steps == 0:\n",
    "            optimizer.step()\n",
    "            optimizer.zero_grad()\n",
    "\n",
    "    train_epoch_loss = running_loss / len(dataloader_train)\n",
    "    train_loss.append(train_epoch_loss)\n",
    "    \n",
    "    # Validation\n",
    "    vit.eval()\n",
    "    running_loss_val = 0.0\n",
    "    correct_predictions = 0\n",
    "    total_predictions = 0\n",
    "    with torch.no_grad():\n",
    "        for inputs in dataloader_valid:\n",
    "            x = inputs['image'].permute(0,3,1,2).to(torch.float)/255\n",
    "            x = val_transforms(x).cuda()\n",
    "            targets = inputs['label'].to(torch.int64).cuda()\n",
    "            outputs = vit(x)\n",
    "            loss = loss_function(outputs, targets)\n",
    "            running_loss_val += loss.item()\n",
    "            _, predicted = torch.max(outputs, 1)\n",
    "            correct_predictions += (predicted == targets).sum().item()\n",
    "            total_predictions += targets.size(0)\n",
    "    val_epoch_loss = running_loss_val / len(dataloader_valid)\n",
    "    test_loss.append(val_epoch_loss)\n",
    "    epoch_accuracy = correct_predictions / total_predictions\n",
    "    print(f'Epoch: {epoch}, Accuracy: {epoch_accuracy:.4f}')\n",
    "    val_accuracy.append(epoch_accuracy)\n",
    "    graphs = [\n",
    "        [range(1, epoch + 1), train_loss],  # Training Loss\n",
    "        [range(1, epoch + 1), test_loss],  # Validation Loss\n",
    "    ]\n",
    "    x_bounds = [1, epoch]\n",
    "    y_bounds = [min(min(train_loss + test_loss) - 0.05, 0), max(max(train_loss + test_loss) + 0.05, 1)]\n",
    "    mb.update_graph(graphs, x_bounds, y_bounds)\n",
    "    checkpoint_filename = f'simplevit_imagenette_e{epoch}.pt'\n",
    "    checkpoint = {\n",
    "        'model_state_dict': vit.state_dict(),\n",
    "        'optimizer_state_dict': optimizer.state_dict(),\n",
    "        'scheduler_state_dict': scheduler.state_dict(),\n",
    "        'epoch': epoch,\n",
    "        'train_loss': train_loss,\n",
    "        'test_loss': test_loss,\n",
    "        'val_accuracy': val_accuracy\n",
    "    }\n",
    "    torch.save(checkpoint, checkpoint_filename)\n",
    "    scheduler.step()"
   ]
  }
 ],
 "metadata": {
  "kernelspec": {
   "display_name": "Python 3 (ipykernel)",
   "language": "python",
   "name": "python3"
  },
  "language_info": {
   "codemirror_mode": {
    "name": "ipython",
    "version": 3
   },
   "file_extension": ".py",
   "mimetype": "text/x-python",
   "name": "python",
   "nbconvert_exporter": "python",
   "pygments_lexer": "ipython3",
   "version": "3.10.12"
  }
 },
 "nbformat": 4,
 "nbformat_minor": 5
}
