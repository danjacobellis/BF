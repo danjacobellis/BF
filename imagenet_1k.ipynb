{
 "cells": [
  {
   "cell_type": "code",
   "execution_count": 1,
   "id": "75ab9b8d-ec3c-4f44-8e87-aa4bd7a55b78",
   "metadata": {},
   "outputs": [
    {
     "name": "stderr",
     "output_type": "stream",
     "text": [
      "/home/dgj335/.local/lib/python3.10/site-packages/beartype/_util/error/utilerrwarn.py:67: BeartypeModuleUnimportableWarning: Ignoring module \"onnx\" importation exception:\n",
      "    ImportError: cannot import name 'builder' from 'google.protobuf.internal' (/home/dgj335/.local/lib/python3.10/site-packages/google/protobuf/internal/__init__.py)\n",
      "  warn(message, cls)\n",
      "/home/dgj335/.local/lib/python3.10/site-packages/beartype/_util/error/utilerrwarn.py:67: BeartypeModuleUnimportableWarning: Ignoring module \"onnx\" importation exception:\n",
      "    ImportError: cannot import name 'builder' from 'google.protobuf.internal' (/home/dgj335/.local/lib/python3.10/site-packages/google/protobuf/internal/__init__.py)\n",
      "  warn(message, cls)\n"
     ]
    }
   ],
   "source": [
    "import torch\n",
    "import torch.nn as nn\n",
    "import torch.optim as optim\n",
    "from datasets import load_dataset\n",
    "from torch.utils.data import DataLoader, Dataset\n",
    "from vit_pytorch import SimpleViT\n",
    "from fastprogress.fastprogress import master_bar, progress_bar\n",
    "from torchvision.transforms import RandomResizedCrop, CenterCrop, Resize, RandomHorizontalFlip, Compose, ToTensor\n",
    "from torch.optim.lr_scheduler import CosineAnnealingLR"
   ]
  },
  {
   "cell_type": "code",
   "execution_count": 2,
   "id": "70b31d2e-9bc5-4c5c-b780-3f0a94a3a669",
   "metadata": {},
   "outputs": [
    {
     "data": {
      "application/vnd.jupyter.widget-view+json": {
       "model_id": "06775df4262b4b9bb0183d56791a20c8",
       "version_major": 2,
       "version_minor": 0
      },
      "text/plain": [
       "Loading dataset shards:   0%|          | 0/257 [00:00<?, ?it/s]"
      ]
     },
     "metadata": {},
     "output_type": "display_data"
    }
   ],
   "source": [
    "train_dataset = load_dataset(\"imagenet-1k\",split=\"train\",trust_remote_code=True)\n",
    "valid_dataset = load_dataset(\"imagenet-1k\",split=\"validation\",trust_remote_code=True)\n",
    "rgb_train = train_dataset.filter(lambda s: s[\"image\"].mode == \"RGB\").with_format(\"torch\")\n",
    "rgb_valid = valid_dataset.filter(lambda s: s[\"image\"].mode == \"RGB\").with_format(\"torch\")"
   ]
  },
  {
   "cell_type": "code",
   "execution_count": 3,
   "id": "580d7dab-058a-473c-8c87-f0370425e4f2",
   "metadata": {},
   "outputs": [],
   "source": [
    "def custom_collate_fn(batch):\n",
    "    train_transforms = Compose(\n",
    "        [\n",
    "            RandomResizedCrop(256),\n",
    "            RandomHorizontalFlip(),\n",
    "        ]\n",
    "    )\n",
    "    images = torch.stack([train_transforms(item['image'].permute(2,0,1).to(torch.float)/255) for item in batch])\n",
    "    labels = torch.tensor([item['label'] for item in batch], dtype=torch.int64)\n",
    "    return images, labels\n",
    "\n",
    "val_transforms = Compose(\n",
    "    [\n",
    "        Resize(256,antialias=True),\n",
    "        CenterCrop(256),\n",
    "    ]\n",
    ")"
   ]
  },
  {
   "cell_type": "code",
   "execution_count": 4,
   "id": "321dad4c-7bbd-4ef3-b9e7-2f648b74f4f8",
   "metadata": {},
   "outputs": [],
   "source": [
    "vit = SimpleViT(\n",
    "    image_size = 256,\n",
    "    patch_size = 16,\n",
    "    num_classes = 1000,\n",
    "    dim = 384,\n",
    "    depth = 12,\n",
    "    heads = 6,\n",
    "    mlp_dim = 1536\n",
    ").cuda()"
   ]
  },
  {
   "cell_type": "code",
   "execution_count": 5,
   "id": "53695141-a7c7-4512-91c2-a34eb006d80b",
   "metadata": {},
   "outputs": [],
   "source": [
    "epochs = 90\n",
    "batch_size = 192\n",
    "accumulation_steps = 960//batch_size\n",
    "\n",
    "loss_function = nn.CrossEntropyLoss()\n",
    "optimizer = optim.AdamW(vit.parameters(), lr=0.001)\n",
    "scheduler = CosineAnnealingLR(optimizer, T_max=epochs, eta_min=0)\n",
    "\n",
    "train_loss = []\n",
    "test_loss = []\n",
    "val_accuracy = []"
   ]
  },
  {
   "cell_type": "code",
   "execution_count": 6,
   "id": "0f8ed3c7-2df0-4717-8d75-55f50f221033",
   "metadata": {},
   "outputs": [
    {
     "data": {
      "text/html": [
       "\n",
       "<style>\n",
       "    /* Turns off some styling */\n",
       "    progress {\n",
       "        /* gets rid of default border in Firefox and Opera. */\n",
       "        border: none;\n",
       "        /* Needs to be in here for Safari polyfill so background images work as expected. */\n",
       "        background-size: auto;\n",
       "    }\n",
       "    progress:not([value]), progress:not([value])::-webkit-progress-bar {\n",
       "        background: repeating-linear-gradient(45deg, #7e7e7e, #7e7e7e 10px, #5c5c5c 10px, #5c5c5c 20px);\n",
       "    }\n",
       "    .progress-bar-interrupted, .progress-bar-interrupted::-webkit-progress-bar {\n",
       "        background: #F44336;\n",
       "    }\n",
       "</style>\n"
      ],
      "text/plain": [
       "<IPython.core.display.HTML object>"
      ]
     },
     "metadata": {},
     "output_type": "display_data"
    },
    {
     "data": {
      "text/html": [
       "\n",
       "    <div>\n",
       "      <progress value='16' class='' max='90' style='width:300px; height:20px; vertical-align: middle;'></progress>\n",
       "      17.78% [16/90 11:04:38&lt;51:13:56]\n",
       "    </div>\n",
       "    \n",
       "\n",
       "\n",
       "    <div>\n",
       "      <progress value='23' class='' max='6568' style='width:300px; height:20px; vertical-align: middle;'></progress>\n",
       "      0.35% [23/6568 00:09&lt;46:36]\n",
       "    </div>\n",
       "    "
      ],
      "text/plain": [
       "<IPython.core.display.HTML object>"
      ]
     },
     "metadata": {},
     "output_type": "display_data"
    },
    {
     "name": "stdout",
     "output_type": "stream",
     "text": [
      "Epoch: 1, Accuracy: 0.0506\n"
     ]
    },
    {
     "data": {
      "image/png": "[encoded data removed]",
      "text/plain": [
       "<Figure size 600x400 with 1 Axes>"
      ]
     },
     "metadata": {},
     "output_type": "display_data"
    },
    {
     "name": "stderr",
     "output_type": "stream",
     "text": [
      "/home/dgj335/.local/lib/python3.10/site-packages/fastprogress/fastprogress.py:206: UserWarning: Attempting to set identical low and high xlims makes transformation singular; automatically expanding.\n",
      "  if x_bounds is not None: self.graph_ax.set_xlim(*x_bounds)\n"
     ]
    },
    {
     "name": "stdout",
     "output_type": "stream",
     "text": [
      "Epoch: 2, Accuracy: 0.0759\n",
      "Epoch: 3, Accuracy: 0.0895\n",
      "Epoch: 4, Accuracy: 0.1129\n",
      "Epoch: 5, Accuracy: 0.1325\n",
      "Epoch: 6, Accuracy: 0.1502\n",
      "Epoch: 7, Accuracy: 0.1648\n",
      "Epoch: 8, Accuracy: 0.1878\n",
      "Epoch: 9, Accuracy: 0.2046\n",
      "Epoch: 10, Accuracy: 0.2183\n",
      "Epoch: 11, Accuracy: 0.2376\n",
      "Epoch: 12, Accuracy: 0.2501\n",
      "Epoch: 13, Accuracy: 0.2664\n",
      "Epoch: 14, Accuracy: 0.2821\n",
      "Epoch: 15, Accuracy: 0.2950\n",
      "Epoch: 16, Accuracy: 0.3065\n",
      "3.1747179031372073\r"
     ]
    },
    {
     "name": "stderr",
     "output_type": "stream",
     "text": [
      "\n",
      "KeyboardInterrupt\n",
      "\n"
     ]
    },
    {
     "data": {
      "image/png": "[encoded data removed]",
      "text/plain": [
       "<Figure size 600x400 with 1 Axes>"
      ]
     },
     "metadata": {},
     "output_type": "display_data"
    }
   ],
   "source": [
    "mb = master_bar(range(1, epochs + 1))\n",
    "\n",
    "for epoch in mb:\n",
    "    \n",
    "    dataloader_train = DataLoader(rgb_train, batch_size=batch_size, shuffle=True, drop_last=True, num_workers=12, collate_fn=custom_collate_fn)\n",
    "    dataloader_valid = DataLoader(rgb_valid, batch_size=1, shuffle=False, drop_last=False)\n",
    "\n",
    "    # Training\n",
    "    vit.train()\n",
    "    optimizer.zero_grad()\n",
    "    running_loss = 0.0\n",
    "    for i_batch, (x, target) in enumerate(progress_bar(dataloader_train, parent=mb)):\n",
    "        x = x.cuda()\n",
    "        outputs = vit(x)\n",
    "        loss = loss_function(outputs, target.cuda())\n",
    "        loss.backward()\n",
    "        print(loss.item(), end='\\r')\n",
    "        running_loss += loss.item()\n",
    "\n",
    "        if (i_batch + 1) % accumulation_steps == 0:\n",
    "            optimizer.step()\n",
    "            optimizer.zero_grad()\n",
    "\n",
    "    train_epoch_loss = running_loss / len(dataloader_train)\n",
    "    train_loss.append(train_epoch_loss)\n",
    "    \n",
    "    # Validation\n",
    "    vit.eval()\n",
    "    running_loss_val = 0.0\n",
    "    correct_predictions = 0\n",
    "    total_predictions = 0\n",
    "    with torch.no_grad():\n",
    "        for inputs in dataloader_valid:\n",
    "            x = inputs['image'].permute(0,3,1,2).to(torch.float)/255\n",
    "            x = val_transforms(x).cuda()\n",
    "            targets = inputs['label'].to(torch.int64).cuda()\n",
    "            outputs = vit(x)\n",
    "            loss = loss_function(outputs, targets)\n",
    "            running_loss_val += loss.item()\n",
    "            _, predicted = torch.max(outputs, 1)\n",
    "            correct_predictions += (predicted == targets).sum().item()\n",
    "            total_predictions += targets.size(0)\n",
    "    val_epoch_loss = running_loss_val / len(dataloader_valid)\n",
    "    test_loss.append(val_epoch_loss)\n",
    "    epoch_accuracy = correct_predictions / total_predictions\n",
    "    print(f'Epoch: {epoch}, Accuracy: {epoch_accuracy:.4f}')\n",
    "    val_accuracy.append(epoch_accuracy)\n",
    "    graphs = [\n",
    "        [range(1, epoch + 1), train_loss],  # Training Loss\n",
    "        [range(1, epoch + 1), test_loss],  # Validation Loss\n",
    "    ]\n",
    "    x_bounds = [1, epoch]\n",
    "    y_bounds = [min(min(train_loss + test_loss) - 0.05, 0), max(max(train_loss + test_loss) + 0.05, 1)]\n",
    "    mb.update_graph(graphs, x_bounds, y_bounds)\n",
    "    if epoch_accuracy > max(val_accuracy):\n",
    "        checkpoint_filename = f'simplevit_imagenet1k_checkpoint{epoch}.pt'\n",
    "        torch.save(vit.state_dict(), checkpoint_filename)\n",
    "    scheduler.step()"
   ]
  },
  {
   "cell_type": "code",
   "execution_count": 7,
   "id": "23125897-33fa-4a53-8094-9cb6eb24de21",
   "metadata": {},
   "outputs": [],
   "source": [
    "#oops\n",
    "checkpoint_filename = f'simplevit_imagenet1k_checkpoint{epoch}.pt'\n",
    "torch.save(vit.state_dict(), checkpoint_filename)  "
   ]
  }
 ],
 "metadata": {
  "kernelspec": {
   "display_name": "Python 3 (ipykernel)",
   "language": "python",
   "name": "python3"
  },
  "language_info": {
   "codemirror_mode": {
    "name": "ipython",
    "version": 3
   },
   "file_extension": ".py",
   "mimetype": "text/x-python",
   "name": "python",
   "nbconvert_exporter": "python",
   "pygments_lexer": "ipython3",
   "version": "3.10.12"
  }
 },
 "nbformat": 4,
 "nbformat_minor": 5
}
