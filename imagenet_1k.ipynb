{
 "cells": [
  {
   "cell_type": "code",
   "execution_count": 1,
   "id": "43fa2a4c-a4e8-4080-9c94-f3d8949c82ce",
   "metadata": {},
   "outputs": [
    {
     "name": "stdout",
     "output_type": "stream",
     "text": [
      "--2024-05-27 21:10:52--  https://raw.githubusercontent.com/facebookresearch/ConvNeXt/main/models/convnext.py\n",
      "Resolving raw.githubusercontent.com (raw.githubusercontent.com)... 185.199.109.133, 185.199.110.133, 185.199.111.133, ...\n",
      "Connecting to raw.githubusercontent.com (raw.githubusercontent.com)|185.199.109.133|:443... connected.\n",
      "HTTP request sent, awaiting response... 200 OK\n",
      "Length: 9321 (9.1K) [text/plain]\n",
      "Saving to: ‘convnext.py.5’\n",
      "\n",
      "convnext.py.5       100%[===================>]   9.10K  --.-KB/s    in 0s      \n",
      "\n",
      "2024-05-27 21:10:52 (58.8 MB/s) - ‘convnext.py.5’ saved [9321/9321]\n",
      "\n"
     ]
    }
   ],
   "source": [
    "!wget https://raw.githubusercontent.com/facebookresearch/ConvNeXt/main/models/convnext.py"
   ]
  },
  {
   "cell_type": "code",
   "execution_count": 1,
   "id": "75ab9b8d-ec3c-4f44-8e87-aa4bd7a55b78",
   "metadata": {},
   "outputs": [
    {
     "name": "stderr",
     "output_type": "stream",
     "text": [
      "/home/dgj335/.local/lib/python3.10/site-packages/beartype/_util/error/utilerrwarn.py:67: BeartypeModuleUnimportableWarning: Ignoring module \"onnx\" importation exception:\n",
      "    ImportError: cannot import name 'builder' from 'google.protobuf.internal' (/home/dgj335/.local/lib/python3.10/site-packages/google/protobuf/internal/__init__.py)\n",
      "  warn(message, cls)\n",
      "/home/dgj335/.local/lib/python3.10/site-packages/beartype/_util/error/utilerrwarn.py:67: BeartypeModuleUnimportableWarning: Ignoring module \"onnx\" importation exception:\n",
      "    ImportError: cannot import name 'builder' from 'google.protobuf.internal' (/home/dgj335/.local/lib/python3.10/site-packages/google/protobuf/internal/__init__.py)\n",
      "  warn(message, cls)\n",
      "/home/dgj335/danjacobellis/BF/convnext.py:159: UserWarning: Overwriting convnext_tiny in registry with convnext.convnext_tiny. This is because the name being registered conflicts with an existing name. Please check if this is not expected.\n",
      "  def convnext_tiny(pretrained=False,in_22k=False, **kwargs):\n",
      "/home/dgj335/danjacobellis/BF/convnext.py:168: UserWarning: Overwriting convnext_small in registry with convnext.convnext_small. This is because the name being registered conflicts with an existing name. Please check if this is not expected.\n",
      "  def convnext_small(pretrained=False,in_22k=False, **kwargs):\n",
      "/home/dgj335/danjacobellis/BF/convnext.py:177: UserWarning: Overwriting convnext_base in registry with convnext.convnext_base. This is because the name being registered conflicts with an existing name. Please check if this is not expected.\n",
      "  def convnext_base(pretrained=False, in_22k=False, **kwargs):\n",
      "/home/dgj335/danjacobellis/BF/convnext.py:186: UserWarning: Overwriting convnext_large in registry with convnext.convnext_large. This is because the name being registered conflicts with an existing name. Please check if this is not expected.\n",
      "  def convnext_large(pretrained=False, in_22k=False, **kwargs):\n",
      "/home/dgj335/danjacobellis/BF/convnext.py:195: UserWarning: Overwriting convnext_xlarge in registry with convnext.convnext_xlarge. This is because the name being registered conflicts with an existing name. Please check if this is not expected.\n",
      "  def convnext_xlarge(pretrained=False, in_22k=False, **kwargs):\n"
     ]
    }
   ],
   "source": [
    "import torch\n",
    "import torch.nn as nn\n",
    "import torch.optim as optim\n",
    "from datasets import load_dataset\n",
    "from torch.utils.data import DataLoader, Dataset\n",
    "from convnext import ConvNeXt\n",
    "from fastprogress.fastprogress import master_bar, progress_bar\n",
    "from torchvision.transforms import RandomResizedCrop, CenterCrop, Resize, RandomHorizontalFlip, Compose, RandomErasing\n",
    "from torch.optim import AdamW\n",
    "from torch.optim.lr_scheduler import CosineAnnealingWarmRestarts"
   ]
  },
  {
   "cell_type": "code",
   "execution_count": 2,
   "id": "70b31d2e-9bc5-4c5c-b780-3f0a94a3a669",
   "metadata": {},
   "outputs": [
    {
     "data": {
      "application/vnd.jupyter.widget-view+json": {
       "model_id": "8be35c83b96d4cf0bd9abccff39acb7d",
       "version_major": 2,
       "version_minor": 0
      },
      "text/plain": [
       "Loading dataset shards:   0%|          | 0/257 [00:00<?, ?it/s]"
      ]
     },
     "metadata": {},
     "output_type": "display_data"
    }
   ],
   "source": [
    "train_dataset = load_dataset(\"imagenet-1k\",split=\"train\",trust_remote_code=True)\n",
    "valid_dataset = load_dataset(\"imagenet-1k\",split=\"validation\",trust_remote_code=True)\n",
    "rgb_train = train_dataset.filter(lambda s: s[\"image\"].mode == \"RGB\").with_format(\"torch\")\n",
    "rgb_valid = valid_dataset.filter(lambda s: s[\"image\"].mode == \"RGB\").with_format(\"torch\")"
   ]
  },
  {
   "cell_type": "code",
   "execution_count": 3,
   "id": "580d7dab-058a-473c-8c87-f0370425e4f2",
   "metadata": {},
   "outputs": [
    {
     "data": {
      "text/plain": [
       "torchvision.transforms.transforms.RandomErasing"
      ]
     },
     "execution_count": 3,
     "metadata": {},
     "output_type": "execute_result"
    }
   ],
   "source": [
    "def custom_collate_fn(batch):\n",
    "    train_transforms = Compose(\n",
    "        [\n",
    "            RandomResizedCrop(256, scale=(0.5,1.0), ratio=(0.8, 1.25)),\n",
    "            RandomHorizontalFlip(),\n",
    "            RandomErasing(p=0.25, scale=(0.02, 0.33), ratio=(0.3, 3.3), value='random', inplace=False,\n",
    ")\n",
    "        ]\n",
    "    )\n",
    "    images = torch.stack([train_transforms(item['image'].permute(2,0,1).to(torch.float)/255) for item in batch])\n",
    "    labels = torch.tensor([item['label'] for item in batch], dtype=torch.int64)\n",
    "    return images, labels\n",
    "\n",
    "val_transforms = Compose(\n",
    "    [\n",
    "        Resize(256,antialias=True),\n",
    "        CenterCrop(256),\n",
    "    ]\n",
    ")\n",
    "RandomErasing"
   ]
  },
  {
   "cell_type": "code",
   "execution_count": 4,
   "id": "321dad4c-7bbd-4ef3-b9e7-2f648b74f4f8",
   "metadata": {},
   "outputs": [],
   "source": [
    "classifier = ConvNeXt(in_chans=3,\n",
    "                      num_classes=1000,\n",
    "                      depths=[3, 3, 9, 3],\n",
    "                      dims=[96, 192, 384, 768],\n",
    "                      drop_path_rate=0.,\n",
    "                      layer_scale_init_value=1e-6,\n",
    "                      head_init_scale=1.).cuda()"
   ]
  },
  {
   "cell_type": "code",
   "execution_count": 5,
   "id": "53695141-a7c7-4512-91c2-a34eb006d80b",
   "metadata": {},
   "outputs": [],
   "source": [
    "epochs = 25\n",
    "batch_size = 144\n",
    "accumulation_steps = 1152//batch_size\n",
    "\n",
    "loss_function = nn.CrossEntropyLoss(label_smoothing=0.1)\n",
    "optimizer = AdamW(classifier.parameters(), lr=5e-4, weight_decay=1e-3)\n",
    "\n",
    "train_loss = []\n",
    "test_loss = []\n",
    "val_accuracy = []"
   ]
  },
  {
   "cell_type": "code",
   "execution_count": 6,
   "id": "0f8ed3c7-2df0-4717-8d75-55f50f221033",
   "metadata": {},
   "outputs": [
    {
     "data": {
      "text/html": [
       "\n",
       "<style>\n",
       "    /* Turns off some styling */\n",
       "    progress {\n",
       "        /* gets rid of default border in Firefox and Opera. */\n",
       "        border: none;\n",
       "        /* Needs to be in here for Safari polyfill so background images work as expected. */\n",
       "        background-size: auto;\n",
       "    }\n",
       "    progress:not([value]), progress:not([value])::-webkit-progress-bar {\n",
       "        background: repeating-linear-gradient(45deg, #7e7e7e, #7e7e7e 10px, #5c5c5c 10px, #5c5c5c 20px);\n",
       "    }\n",
       "    .progress-bar-interrupted, .progress-bar-interrupted::-webkit-progress-bar {\n",
       "        background: #F44336;\n",
       "    }\n",
       "</style>\n"
      ],
      "text/plain": [
       "<IPython.core.display.HTML object>"
      ]
     },
     "metadata": {},
     "output_type": "display_data"
    },
    {
     "data": {
      "text/html": [
       "\n",
       "    <div>\n",
       "      <progress value='17' class='' max='25' style='width:300px; height:20px; vertical-align: middle;'></progress>\n",
       "      68.00% [17/25 16:04:40&lt;7:33:57]\n",
       "    </div>\n",
       "    \n",
       "\n",
       "\n",
       "    <div>\n",
       "      <progress value='3817' class='' max='8758' style='width:300px; height:20px; vertical-align: middle;'></progress>\n",
       "      43.58% [3817/8758 22:22&lt;28:57]\n",
       "    </div>\n",
       "    "
      ],
      "text/plain": [
       "<IPython.core.display.HTML object>"
      ]
     },
     "metadata": {},
     "output_type": "display_data"
    },
    {
     "name": "stderr",
     "output_type": "stream",
     "text": [
      "/home/dgj335/.local/lib/python3.10/site-packages/torch/nn/modules/conv.py:456: UserWarning: Plan failed with a cudnnException: CUDNN_BACKEND_EXECUTION_PLAN_DESCRIPTOR: cudnnFinalize Descriptor Failed cudnn_status: CUDNN_STATUS_NOT_SUPPORTED (Triggered internally at ../aten/src/ATen/native/cudnn/Conv_v8.cpp:919.)\n",
      "  return F.conv2d(input, weight, bias, self.stride,\n"
     ]
    },
    {
     "name": "stdout",
     "output_type": "stream",
     "text": [
      "Epoch: 1, Accuracy: 0.1039\n"
     ]
    },
    {
     "data": {
      "image/png": "[encoded data removed]",
      "text/plain": [
       "<Figure size 600x400 with 1 Axes>"
      ]
     },
     "metadata": {},
     "output_type": "display_data"
    },
    {
     "name": "stderr",
     "output_type": "stream",
     "text": [
      "/home/dgj335/.local/lib/python3.10/site-packages/fastprogress/fastprogress.py:206: UserWarning: Attempting to set identical low and high xlims makes transformation singular; automatically expanding.\n",
      "  if x_bounds is not None: self.graph_ax.set_xlim(*x_bounds)\n"
     ]
    },
    {
     "name": "stdout",
     "output_type": "stream",
     "text": [
      "Epoch: 2, Accuracy: 0.2638\n",
      "Epoch: 3, Accuracy: 0.3833\n",
      "Epoch: 4, Accuracy: 0.4695\n",
      "Epoch: 5, Accuracy: 0.5163\n",
      "Epoch: 6, Accuracy: 0.5575\n",
      "Epoch: 7, Accuracy: 0.5789\n",
      "Epoch: 8, Accuracy: 0.6005\n",
      "Epoch: 9, Accuracy: 0.6097\n",
      "Epoch: 10, Accuracy: 0.6287\n",
      "Epoch: 11, Accuracy: 0.6364\n",
      "Epoch: 12, Accuracy: 0.6389\n",
      "Epoch: 13, Accuracy: 0.6431\n",
      "Epoch: 14, Accuracy: 0.6440\n",
      "Epoch: 15, Accuracy: 0.6452\n",
      "Epoch: 16, Accuracy: 0.6424\n",
      "Epoch: 17, Accuracy: 0.6474\n",
      "1.7081197500228882\r"
     ]
    },
    {
     "name": "stderr",
     "output_type": "stream",
     "text": [
      "Exception ignored in: <function _MultiProcessingDataLoaderIter.__del__ at 0x72d8ab1817e0>\n",
      "Traceback (most recent call last):\n",
      "  File \"/home/dgj335/.local/lib/python3.10/site-packages/torch/utils/data/dataloader.py\", line 1479, in __del__\n",
      "    self._shutdown_workers()\n",
      "  File \"/home/dgj335/.local/lib/python3.10/site-packages/torch/utils/data/dataloader.py\", line 1443, in _shutdown_workers\n",
      "    w.join(timeout=_utils.MP_STATUS_CHECK_INTERVAL)\n",
      "  File \"/usr/lib/python3.10/multiprocessing/process.py\", line 149, in join\n",
      "    res = self._popen.wait(timeout)\n",
      "  File \"/usr/lib/python3.10/multiprocessing/popen_fork.py\", line 40, in wait\n",
      "    if not wait([self.sentinel], timeout):\n",
      "  File \"/usr/lib/python3.10/multiprocessing/connection.py\", line 931, in wait\n",
      "    ready = selector.select(timeout)\n",
      "  File \"/usr/lib/python3.10/selectors.py\", line 416, in select\n",
      "    fd_event_list = self._selector.poll(timeout)\n",
      "KeyboardInterrupt: \n",
      "\n",
      "KeyboardInterrupt\n",
      "\n"
     ]
    },
    {
     "data": {
      "image/png": "[encoded data removed]",
      "text/plain": [
       "<Figure size 600x400 with 1 Axes>"
      ]
     },
     "metadata": {},
     "output_type": "display_data"
    }
   ],
   "source": [
    "mb = master_bar(range(1, epochs + 1))\n",
    "\n",
    "for epoch in mb:\n",
    "    \n",
    "    dataloader_train = DataLoader(rgb_train, batch_size=batch_size, shuffle=True, drop_last=True, num_workers=24, collate_fn=custom_collate_fn)\n",
    "    dataloader_valid = DataLoader(rgb_valid, batch_size=1, shuffle=False, drop_last=False)\n",
    "\n",
    "    # Training\n",
    "    classifier.train()\n",
    "    optimizer.zero_grad()\n",
    "    running_loss = 0.0\n",
    "    for i_batch, (x, target) in enumerate(progress_bar(dataloader_train, parent=mb)):\n",
    "        x = x.cuda()\n",
    "        outputs = classifier(x)\n",
    "        loss = loss_function(outputs, target.cuda())\n",
    "        loss.backward()\n",
    "        print(loss.item(), end='\\r')\n",
    "        running_loss += loss.item()\n",
    "\n",
    "        if (i_batch + 1) % accumulation_steps == 0:\n",
    "            optimizer.step()\n",
    "            optimizer.zero_grad()\n",
    "\n",
    "    train_epoch_loss = running_loss / len(dataloader_train)\n",
    "    train_loss.append(train_epoch_loss)\n",
    "    \n",
    "    # Validation\n",
    "    classifier.eval()\n",
    "    running_loss_val = 0.0\n",
    "    correct_predictions = 0\n",
    "    total_predictions = 0\n",
    "    with torch.no_grad():\n",
    "        for inputs in dataloader_valid:\n",
    "            x = inputs['image'].permute(0,3,1,2).to(torch.float)/255\n",
    "            x = val_transforms(x).cuda()\n",
    "            targets = inputs['label'].to(torch.int64).cuda()\n",
    "            outputs = classifier(x)\n",
    "            loss = loss_function(outputs, targets)\n",
    "            running_loss_val += loss.item()\n",
    "            _, predicted = torch.max(outputs, 1)\n",
    "            correct_predictions += (predicted == targets).sum().item()\n",
    "            total_predictions += targets.size(0)\n",
    "    val_epoch_loss = running_loss_val / len(dataloader_valid)\n",
    "    test_loss.append(val_epoch_loss)\n",
    "    epoch_accuracy = correct_predictions / total_predictions\n",
    "    print(f'Epoch: {epoch}, Accuracy: {epoch_accuracy:.4f}')\n",
    "    val_accuracy.append(epoch_accuracy)\n",
    "    graphs = [\n",
    "        [range(1, epoch + 1), train_loss],  # Training Loss\n",
    "        [range(1, epoch + 1), test_loss],  # Validation Loss\n",
    "    ]\n",
    "    x_bounds = [1, epoch]\n",
    "    y_bounds = [min(min(train_loss + test_loss) - 0.05, 0), max(max(train_loss + test_loss) + 0.05, 1)]\n",
    "    mb.update_graph(graphs, x_bounds, y_bounds)"
   ]
  },
  {
   "cell_type": "code",
   "execution_count": 8,
   "id": "87b67bd5-4f58-47d4-adb2-d89cddc2461d",
   "metadata": {},
   "outputs": [],
   "source": [
    "checkpoint_filename = f'convnext_imagenet1k_re_e{epoch-1}.pt'\n",
    "checkpoint = {\n",
    "    'model_state_dict': classifier.state_dict(),\n",
    "    'optimizer_state_dict': optimizer.state_dict(),\n",
    "    'epoch': epoch,\n",
    "    'train_loss': train_loss,\n",
    "    'test_loss': test_loss,\n",
    "    'val_accuracy': val_accuracy\n",
    "}\n",
    "torch.save(checkpoint, checkpoint_filename)"
   ]
  }
 ],
 "metadata": {
  "kernelspec": {
   "display_name": "Python 3 (ipykernel)",
   "language": "python",
   "name": "python3"
  },
  "language_info": {
   "codemirror_mode": {
    "name": "ipython",
    "version": 3
   },
   "file_extension": ".py",
   "mimetype": "text/x-python",
   "name": "python",
   "nbconvert_exporter": "python",
   "pygments_lexer": "ipython3",
   "version": "3.10.12"
  }
 },
 "nbformat": 4,
 "nbformat_minor": 5
}
