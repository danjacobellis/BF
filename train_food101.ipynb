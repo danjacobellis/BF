{
 "cells": [
  {
   "cell_type": "code",
   "execution_count": 1,
   "id": "e4ad81a2-6634-4ee7-b777-ab0bae00c987",
   "metadata": {},
   "outputs": [],
   "source": [
    "import os\n",
    "os.chdir('StableCascade')\n",
    "import yaml\n",
    "import torch\n",
    "import zlib\n",
    "import torch\n",
    "import numpy as np\n",
    "from tqdm import tqdm\n",
    "from inference.utils import *\n",
    "from core.utils import load_or_fail\n",
    "from train import WurstCoreB\n",
    "from scipy.stats import norm\n",
    "from datasets import load_dataset"
   ]
  },
  {
   "cell_type": "code",
   "execution_count": 2,
   "id": "4ab67234-83da-43ca-92da-3e0f13791cbd",
   "metadata": {},
   "outputs": [
    {
     "name": "stdout",
     "output_type": "stream",
     "text": [
      "['model_version', 'stage_a_checkpoint_path', 'effnet_checkpoint_path']\n",
      "['transforms', 'clip_preprocess', 'gdf', 'sampling_configs', 'effnet_preprocess']\n"
     ]
    },
    {
     "data": {
      "application/vnd.jupyter.widget-view+json": {
       "model_id": "a80339a0f4eb4d3a939755027e8810df",
       "version_major": 2,
       "version_minor": 0
      },
      "text/plain": [
       "Loading checkpoint shards:   0%|          | 0/2 [00:00<?, ?it/s]"
      ]
     },
     "metadata": {},
     "output_type": "display_data"
    },
    {
     "name": "stdout",
     "output_type": "stream",
     "text": [
      "['tokenizer', 'text_model', 'generator', 'effnet', 'stage_a']\n"
     ]
    }
   ],
   "source": [
    "device = torch.device(\"cuda:0\" if torch.cuda.is_available() else \"cpu\")\n",
    "config_file_b = 'configs/inference/stage_b_3b.yaml'\n",
    "with open(config_file_b, \"r\", encoding=\"utf-8\") as file:\n",
    "    config_file_b = yaml.safe_load(file)\n",
    "    \n",
    "core = WurstCoreB(config_dict=config_file_b, device=device, training=False)\n",
    "extras = core.setup_extras_pre()\n",
    "models = core.setup_models(extras)\n",
    "models.generator.bfloat16();\n",
    "extras.sampling_configs['cfg'] = 1.1\n",
    "extras.sampling_configs['shift'] = 1\n",
    "extras.sampling_configs['timesteps'] = 10\n",
    "extras.sampling_configs['t_start'] = 1.0"
   ]
  },
  {
   "cell_type": "code",
   "execution_count": 3,
   "id": "e01b4642-b0cf-4bb1-a4c5-388962d79126",
   "metadata": {},
   "outputs": [],
   "source": [
    "def decompress_b4(compressed_batch, original_shape=(16,16,16), c_clip=torch.zeros(4,1,1280).cuda(), u_clip=torch.zeros(4,1,1280).cuda()):\n",
    "    with torch.no_grad(), torch.cuda.amp.autocast(dtype=torch.bfloat16):\n",
    "        decompressed = [zlib.decompress(img) for img in compressed_batch]\n",
    "        decompressed = [np.frombuffer(d, dtype=np.int8) for d in decompressed]\n",
    "        decompressed = [d.reshape(original_shape) for d in decompressed]\n",
    "        decompressed = [norm.ppf((d+0.5)/16) for d in decompressed]\n",
    "        decompressed = [torch.tensor(d).cuda() for d in decompressed]\n",
    "        decompressed = [d.unsqueeze(0) for d in decompressed]\n",
    "        decompressed = torch.cat(decompressed)\n",
    "        conditions = {\n",
    "            'effnet': decompressed,\n",
    "            'clip':   c_clip\n",
    "        }\n",
    "        unconditions = {\n",
    "            'effnet': torch.zeros_like(decompressed),\n",
    "            'clip':   u_clip\n",
    "        }\n",
    "        sampling_b = extras.gdf.sample(\n",
    "            models.generator, conditions, (4, 4, 256, 256),\n",
    "            unconditions, device=device, **extras.sampling_configs\n",
    "        )\n",
    "        print(decompressed.shape)\n",
    "        for (sampled_b, _, _) in tqdm(sampling_b, total=extras.sampling_configs['timesteps']):\n",
    "            sampled_b = sampled_b\n",
    "        sampled = models.stage_a.decode(sampled_b).float()\n",
    "        return sampled"
   ]
  },
  {
   "cell_type": "code",
   "execution_count": null,
   "id": "c923a895-ad16-4ae1-9c91-f2ab0a509c12",
   "metadata": {},
   "outputs": [],
   "source": [
    "food101_train = load_dataset('danjacobellis/food101_cascade',split=\"train\")\n",
    "test_batch = food101_train[0:4]['compressed_image']\n",
    "recovered_batch = decompress_b4(test_batch)\n",
    "show_images(recovered_batch)"
   ]
  },
  {
   "cell_type": "markdown",
   "id": "05db6578-e258-4401-ae8d-70222acb2847",
   "metadata": {},
   "source": [
    "## Train"
   ]
  },
  {
   "cell_type": "code",
   "execution_count": 1,
   "id": "7d536d9b-1660-486d-b8d7-aea8d98331b6",
   "metadata": {},
   "outputs": [],
   "source": [
    "import numpy as np\n",
    "import torch\n",
    "import torch.nn as nn\n",
    "import torch.nn.functional as F\n",
    "import torch.optim as optim\n",
    "import zlib\n",
    "from fastprogress.fastprogress import master_bar, progress_bar\n",
    "from torchvision.transforms import RandomCrop, CenterCrop, RandomHorizontalFlip, RandomErasing, Compose\n",
    "from torch.utils.data import DataLoader, Dataset\n",
    "from datasets import load_dataset\n",
    "from scipy.stats import norm"
   ]
  },
  {
   "cell_type": "code",
   "execution_count": 2,
   "id": "f0e34904-36c1-41d0-898d-fe170e72eaba",
   "metadata": {},
   "outputs": [],
   "source": [
    "def entropy_decode(sample):\n",
    "    c = sample['compressed_image']\n",
    "    d = zlib.decompress(c)\n",
    "    d = np.frombuffer(d, dtype=np.int8)\n",
    "    d = d.reshape((16,16,16))\n",
    "    d = norm.ppf((d+0.5)/17)\n",
    "    d = torch.tensor(d)\n",
    "    sample['latent'] = d\n",
    "    return sample"
   ]
  },
  {
   "cell_type": "code",
   "execution_count": 3,
   "id": "8927d999-74a2-4a89-bf49-86496dc1cd38",
   "metadata": {},
   "outputs": [],
   "source": [
    "class CascadeClassifier(nn.Module):\n",
    "    def __init__(self):\n",
    "        super(CascadeClassifier, self).__init__()\n",
    "        self.conv1 = nn.Conv2d(in_channels=16, out_channels=256, kernel_size=5, stride=4)\n",
    "        self.fc1 = nn.Linear(2304, 512)\n",
    "        self.fc2 = nn.Linear(512, 101)\n",
    "        self.prelu = nn.PReLU()\n",
    "\n",
    "    def forward(self, x):\n",
    "        x = self.prelu(self.conv1(x))\n",
    "        x = x.view(x.size(0), -1)\n",
    "        x = self.prelu(self.fc1(x))\n",
    "        x = self.fc2(x)\n",
    "        return x"
   ]
  },
  {
   "cell_type": "code",
   "execution_count": 4,
   "id": "b7089d14-fe12-4534-b49a-bfdb5e99e8e2",
   "metadata": {},
   "outputs": [],
   "source": [
    "model = CascadeClassifier().cuda()\n",
    "loss_function = nn.CrossEntropyLoss()\n",
    "optimizer = optim.AdamW(model.parameters(), lr=0.001)"
   ]
  },
  {
   "cell_type": "code",
   "execution_count": 5,
   "id": "9d07371f-0c4e-4448-8966-1ad16fb431ff",
   "metadata": {},
   "outputs": [
    {
     "data": {
      "text/plain": [
       "1.33463"
      ]
     },
     "execution_count": 5,
     "metadata": {},
     "output_type": "execute_result"
    }
   ],
   "source": [
    "num_params = sum(p.numel() for p in model.parameters() if p.requires_grad)\n",
    "num_params/1e6"
   ]
  },
  {
   "cell_type": "code",
   "execution_count": 6,
   "id": "d663e1b0-0be9-40be-8fec-1bf5631e0410",
   "metadata": {},
   "outputs": [
    {
     "data": {
      "application/vnd.jupyter.widget-view+json": {
       "model_id": "fc5f9628c31a4c88a7d21f39cca8fde4",
       "version_major": 2,
       "version_minor": 0
      },
      "text/plain": [
       "Map:   0%|          | 0/75747 [00:00<?, ? examples/s]"
      ]
     },
     "metadata": {},
     "output_type": "display_data"
    },
    {
     "data": {
      "application/vnd.jupyter.widget-view+json": {
       "model_id": "edcf612dfde749c989b627539379aed9",
       "version_major": 2,
       "version_minor": 0
      },
      "text/plain": [
       "Map:   0%|          | 0/25250 [00:00<?, ? examples/s]"
      ]
     },
     "metadata": {},
     "output_type": "display_data"
    }
   ],
   "source": [
    "dataset = load_dataset('danjacobellis/food101_cascade').map(entropy_decode).remove_columns(\"compressed_image\").with_format(\"torch\")"
   ]
  },
  {
   "cell_type": "code",
   "execution_count": 7,
   "id": "b8f5f5b9-ad45-4f4d-85ac-c678afb0b566",
   "metadata": {},
   "outputs": [
    {
     "data": {
      "text/html": [
       "\n",
       "<style>\n",
       "    /* Turns off some styling */\n",
       "    progress {\n",
       "        /* gets rid of default border in Firefox and Opera. */\n",
       "        border: none;\n",
       "        /* Needs to be in here for Safari polyfill so background images work as expected. */\n",
       "        background-size: auto;\n",
       "    }\n",
       "    progress:not([value]), progress:not([value])::-webkit-progress-bar {\n",
       "        background: repeating-linear-gradient(45deg, #7e7e7e, #7e7e7e 10px, #5c5c5c 10px, #5c5c5c 20px);\n",
       "    }\n",
       "    .progress-bar-interrupted, .progress-bar-interrupted::-webkit-progress-bar {\n",
       "        background: #F44336;\n",
       "    }\n",
       "</style>\n"
      ],
      "text/plain": [
       "<IPython.core.display.HTML object>"
      ]
     },
     "metadata": {},
     "output_type": "display_data"
    },
    {
     "data": {
      "text/html": [],
      "text/plain": [
       "<IPython.core.display.HTML object>"
      ]
     },
     "metadata": {},
     "output_type": "display_data"
    },
    {
     "name": "stdout",
     "output_type": "stream",
     "text": [
      "Epoch: 1, Accuracy: 0.1456\n"
     ]
    },
    {
     "data": {
      "image/png": "[encoded data removed]",
      "text/plain": [
       "<Figure size 600x400 with 1 Axes>"
      ]
     },
     "metadata": {},
     "output_type": "display_data"
    },
    {
     "name": "stderr",
     "output_type": "stream",
     "text": [
      "/home/dgj335/.local/lib/python3.10/site-packages/fastprogress/fastprogress.py:206: UserWarning: Attempting to set identical low and high xlims makes transformation singular; automatically expanding.\n",
      "  if x_bounds is not None: self.graph_ax.set_xlim(*x_bounds)\n"
     ]
    },
    {
     "name": "stdout",
     "output_type": "stream",
     "text": [
      "Epoch: 2, Accuracy: 0.1728\n",
      "Epoch: 3, Accuracy: 0.1975\n",
      "Epoch: 4, Accuracy: 0.2167\n",
      "Epoch: 5, Accuracy: 0.2337\n",
      "Epoch: 6, Accuracy: 0.2482\n",
      "Epoch: 7, Accuracy: 0.2516\n",
      "Epoch: 8, Accuracy: 0.2636\n",
      "Epoch: 9, Accuracy: 0.2702\n",
      "Epoch: 10, Accuracy: 0.2762\n",
      "Epoch: 11, Accuracy: 0.2794\n",
      "Epoch: 12, Accuracy: 0.2885\n",
      "Epoch: 13, Accuracy: 0.2935\n",
      "Epoch: 14, Accuracy: 0.2962\n",
      "Epoch: 15, Accuracy: 0.2964\n",
      "Epoch: 16, Accuracy: 0.3010\n",
      "Epoch: 17, Accuracy: 0.3065\n",
      "Epoch: 18, Accuracy: 0.3082\n",
      "Epoch: 19, Accuracy: 0.3068\n",
      "Epoch: 20, Accuracy: 0.3122\n",
      "Epoch: 21, Accuracy: 0.3149\n",
      "Epoch: 22, Accuracy: 0.3117\n",
      "Epoch: 23, Accuracy: 0.3093\n",
      "Epoch: 24, Accuracy: 0.3137\n",
      "Epoch: 25, Accuracy: 0.3161\n",
      "Epoch: 26, Accuracy: 0.3105\n",
      "Epoch: 27, Accuracy: 0.3172\n",
      "Epoch: 28, Accuracy: 0.3171\n",
      "Epoch: 29, Accuracy: 0.3143\n",
      "Epoch: 30, Accuracy: 0.3155\n",
      "Epoch: 31, Accuracy: 0.3208\n",
      "Epoch: 32, Accuracy: 0.3189\n",
      "Epoch: 33, Accuracy: 0.3197\n",
      "Epoch: 34, Accuracy: 0.3139\n",
      "Epoch: 35, Accuracy: 0.3173\n",
      "Epoch: 36, Accuracy: 0.3175\n",
      "Epoch: 37, Accuracy: 0.3188\n",
      "Epoch: 38, Accuracy: 0.3190\n",
      "Epoch: 39, Accuracy: 0.3183\n",
      "Epoch: 40, Accuracy: 0.3211\n",
      "Epoch: 41, Accuracy: 0.3175\n",
      "Epoch: 42, Accuracy: 0.3175\n",
      "Epoch: 43, Accuracy: 0.3144\n",
      "Epoch: 44, Accuracy: 0.3164\n",
      "Epoch: 45, Accuracy: 0.3154\n",
      "Epoch: 46, Accuracy: 0.3134\n",
      "Epoch: 47, Accuracy: 0.3115\n",
      "Epoch: 48, Accuracy: 0.3150\n",
      "Epoch: 49, Accuracy: 0.3097\n",
      "Epoch: 50, Accuracy: 0.3161\n",
      "Epoch: 51, Accuracy: 0.3129\n",
      "Epoch: 52, Accuracy: 0.3095\n",
      "Epoch: 53, Accuracy: 0.3086\n",
      "Epoch: 54, Accuracy: 0.3138\n",
      "Epoch: 55, Accuracy: 0.3137\n",
      "Epoch: 56, Accuracy: 0.3117\n",
      "Epoch: 57, Accuracy: 0.3098\n",
      "Epoch: 58, Accuracy: 0.3085\n",
      "Epoch: 59, Accuracy: 0.3107\n",
      "Epoch: 60, Accuracy: 0.3057\n",
      "Epoch: 61, Accuracy: 0.3135\n",
      "Epoch: 62, Accuracy: 0.3127\n",
      "Epoch: 63, Accuracy: 0.3080\n",
      "Epoch: 64, Accuracy: 0.3089\n",
      "Epoch: 65, Accuracy: 0.3063\n",
      "Epoch: 66, Accuracy: 0.3056\n",
      "Epoch: 67, Accuracy: 0.3061\n",
      "Epoch: 68, Accuracy: 0.3097\n",
      "Epoch: 69, Accuracy: 0.3096\n",
      "Epoch: 70, Accuracy: 0.3105\n",
      "Epoch: 71, Accuracy: 0.3076\n",
      "Epoch: 72, Accuracy: 0.3107\n",
      "Epoch: 73, Accuracy: 0.3078\n",
      "Epoch: 74, Accuracy: 0.3064\n",
      "Epoch: 75, Accuracy: 0.3058\n",
      "Epoch: 76, Accuracy: 0.3060\n",
      "Epoch: 77, Accuracy: 0.3042\n",
      "Epoch: 78, Accuracy: 0.3029\n",
      "Epoch: 79, Accuracy: 0.3008\n",
      "Epoch: 80, Accuracy: 0.3041\n",
      "Epoch: 81, Accuracy: 0.3013\n",
      "Epoch: 82, Accuracy: 0.3011\n",
      "Epoch: 83, Accuracy: 0.3041\n",
      "Epoch: 84, Accuracy: 0.3051\n",
      "Epoch: 85, Accuracy: 0.3034\n",
      "Epoch: 86, Accuracy: 0.3055\n",
      "Epoch: 87, Accuracy: 0.3021\n",
      "Epoch: 88, Accuracy: 0.2985\n",
      "Epoch: 89, Accuracy: 0.3004\n",
      "Epoch: 90, Accuracy: 0.3012\n",
      "Epoch: 91, Accuracy: 0.3027\n",
      "Epoch: 92, Accuracy: 0.3048\n",
      "Epoch: 93, Accuracy: 0.3068\n",
      "Epoch: 94, Accuracy: 0.2999\n",
      "Epoch: 95, Accuracy: 0.3016\n",
      "Epoch: 96, Accuracy: 0.3032\n",
      "Epoch: 97, Accuracy: 0.2997\n",
      "Epoch: 98, Accuracy: 0.2998\n",
      "Epoch: 99, Accuracy: 0.2996\n",
      "Epoch: 100, Accuracy: 0.2998\n",
      "Epoch: 101, Accuracy: 0.2997\n",
      "Epoch: 102, Accuracy: 0.3029\n",
      "Epoch: 103, Accuracy: 0.3021\n",
      "Epoch: 104, Accuracy: 0.3009\n",
      "Epoch: 105, Accuracy: 0.2990\n",
      "Epoch: 106, Accuracy: 0.2999\n",
      "Epoch: 107, Accuracy: 0.2960\n",
      "Epoch: 108, Accuracy: 0.2975\n",
      "Epoch: 109, Accuracy: 0.3011\n",
      "Epoch: 110, Accuracy: 0.3006\n",
      "Epoch: 111, Accuracy: 0.3011\n",
      "Epoch: 112, Accuracy: 0.2980\n",
      "Epoch: 113, Accuracy: 0.2968\n",
      "Epoch: 114, Accuracy: 0.2948\n",
      "Epoch: 115, Accuracy: 0.2973\n",
      "Epoch: 116, Accuracy: 0.2961\n",
      "Epoch: 117, Accuracy: 0.2951\n",
      "Epoch: 118, Accuracy: 0.2949\n",
      "Epoch: 119, Accuracy: 0.2993\n",
      "Epoch: 120, Accuracy: 0.2987\n",
      "Epoch: 121, Accuracy: 0.2934\n",
      "Epoch: 122, Accuracy: 0.2950\n",
      "Epoch: 123, Accuracy: 0.2978\n",
      "Epoch: 124, Accuracy: 0.2958\n",
      "Epoch: 125, Accuracy: 0.2902\n",
      "Epoch: 126, Accuracy: 0.2967\n",
      "Epoch: 127, Accuracy: 0.2966\n",
      "Epoch: 128, Accuracy: 0.2937\n",
      "Epoch: 129, Accuracy: 0.2981\n",
      "Epoch: 130, Accuracy: 0.2934\n",
      "Epoch: 131, Accuracy: 0.2944\n",
      "Epoch: 132, Accuracy: 0.2963\n",
      "Epoch: 133, Accuracy: 0.2967\n",
      "Epoch: 134, Accuracy: 0.2996\n",
      "Epoch: 135, Accuracy: 0.2970\n",
      "Epoch: 136, Accuracy: 0.2975\n",
      "Epoch: 137, Accuracy: 0.2938\n",
      "Epoch: 138, Accuracy: 0.2949\n",
      "Epoch: 139, Accuracy: 0.2950\n",
      "Epoch: 140, Accuracy: 0.2934\n",
      "Epoch: 141, Accuracy: 0.2980\n",
      "Epoch: 142, Accuracy: 0.2919\n",
      "Epoch: 143, Accuracy: 0.2945\n",
      "Epoch: 144, Accuracy: 0.2920\n",
      "Epoch: 145, Accuracy: 0.2872\n",
      "Epoch: 146, Accuracy: 0.2928\n",
      "Epoch: 147, Accuracy: 0.2956\n",
      "Epoch: 148, Accuracy: 0.2986\n",
      "Epoch: 149, Accuracy: 0.2893\n",
      "Epoch: 150, Accuracy: 0.2947\n",
      "Epoch: 151, Accuracy: 0.2925\n",
      "Epoch: 152, Accuracy: 0.2870\n",
      "Epoch: 153, Accuracy: 0.2926\n",
      "Epoch: 154, Accuracy: 0.2944\n",
      "Epoch: 155, Accuracy: 0.2918\n",
      "Epoch: 156, Accuracy: 0.2885\n",
      "Epoch: 157, Accuracy: 0.2905\n",
      "Epoch: 158, Accuracy: 0.2917\n",
      "Epoch: 159, Accuracy: 0.2902\n",
      "Epoch: 160, Accuracy: 0.2913\n",
      "Epoch: 161, Accuracy: 0.2903\n",
      "Epoch: 162, Accuracy: 0.2908\n",
      "Epoch: 163, Accuracy: 0.2916\n",
      "Epoch: 164, Accuracy: 0.2889\n",
      "Epoch: 165, Accuracy: 0.2908\n",
      "Epoch: 166, Accuracy: 0.2953\n",
      "Epoch: 167, Accuracy: 0.2895\n",
      "Epoch: 168, Accuracy: 0.2930\n",
      "Epoch: 169, Accuracy: 0.2937\n",
      "Epoch: 170, Accuracy: 0.2880\n",
      "Epoch: 171, Accuracy: 0.2930\n",
      "Epoch: 172, Accuracy: 0.2901\n",
      "Epoch: 173, Accuracy: 0.2906\n",
      "Epoch: 174, Accuracy: 0.2873\n",
      "Epoch: 175, Accuracy: 0.2867\n",
      "Epoch: 176, Accuracy: 0.2904\n",
      "Epoch: 177, Accuracy: 0.2856\n",
      "Epoch: 178, Accuracy: 0.2931\n",
      "Epoch: 179, Accuracy: 0.2910\n",
      "Epoch: 180, Accuracy: 0.2918\n",
      "Epoch: 181, Accuracy: 0.2883\n",
      "Epoch: 182, Accuracy: 0.2861\n",
      "Epoch: 183, Accuracy: 0.2888\n",
      "Epoch: 184, Accuracy: 0.2877\n",
      "Epoch: 185, Accuracy: 0.2898\n",
      "Epoch: 186, Accuracy: 0.2872\n",
      "Epoch: 187, Accuracy: 0.2878\n",
      "Epoch: 188, Accuracy: 0.2898\n",
      "Epoch: 189, Accuracy: 0.2879\n",
      "Epoch: 190, Accuracy: 0.2916\n",
      "Epoch: 191, Accuracy: 0.2860\n",
      "Epoch: 192, Accuracy: 0.2886\n",
      "Epoch: 193, Accuracy: 0.2888\n",
      "Epoch: 194, Accuracy: 0.2874\n",
      "Epoch: 195, Accuracy: 0.2891\n",
      "Epoch: 196, Accuracy: 0.2909\n",
      "Epoch: 197, Accuracy: 0.2833\n",
      "Epoch: 198, Accuracy: 0.2896\n",
      "Epoch: 199, Accuracy: 0.2897\n",
      "Epoch: 200, Accuracy: 0.2902\n"
     ]
    }
   ],
   "source": [
    "epochs = 200\n",
    "mb = master_bar(range(1, epochs + 1))\n",
    "train_loss = []\n",
    "test_loss = []\n",
    "val_accuracy = []\n",
    "augmentations = Compose([\n",
    "    RandomCrop(13),\n",
    "    RandomHorizontalFlip(0.5),\n",
    "    RandomErasing(p=0.5, scale=(1/169, 16/169), ratio=(1/13, 13), value=0, inplace=False),\n",
    "])\n",
    "\n",
    "center_crop = CenterCrop(13)\n",
    "\n",
    "for epoch in mb:\n",
    "    # Training Phase\n",
    "    dataloader_train = DataLoader(dataset['train'], batch_size=1024, shuffle=True, drop_last=True)\n",
    "    model.train()\n",
    "    running_loss = 0.0\n",
    "    for inputs in progress_bar(dataloader_train, parent=mb):\n",
    "        x = augmentations(inputs['latent'].cuda())\n",
    "        targets = inputs['label'].to(torch.int64).cuda()\n",
    "        optimizer.zero_grad()\n",
    "        outputs = model(x)\n",
    "        loss = loss_function(outputs, targets)\n",
    "        if torch.isnan(loss):\n",
    "            print(f\"Loss is nan, skipping batch\")\n",
    "            continue\n",
    "        loss.backward()\n",
    "        print(loss.item(), end='\\r')\n",
    "        # torch.nn.utils.clip_grad_norm_(model.parameters(), max_norm=1.0)\n",
    "        optimizer.step()\n",
    "        running_loss += loss.item()\n",
    "\n",
    "    train_epoch_loss = running_loss / len(dataloader_train)\n",
    "    train_loss.append(train_epoch_loss)\n",
    "    \n",
    "    # Validation Phase\n",
    "    dataloader_val = DataLoader(dataset['validation'], batch_size=256, shuffle=False, drop_last=False)\n",
    "    model.eval()\n",
    "    running_loss_val = 0.0\n",
    "    correct_predictions = 0\n",
    "    total_predictions = 0\n",
    "    with torch.no_grad():\n",
    "        for inputs in dataloader_val:\n",
    "            x = center_crop(inputs['latent'].cuda())\n",
    "            targets = inputs['label'].to(torch.int64).cuda()\n",
    "            outputs = model(x)\n",
    "            loss = loss_function(outputs, targets)\n",
    "            if torch.isnan(loss):\n",
    "                print(f\"Loss is nan, skipping batch\")\n",
    "                continue\n",
    "            running_loss_val += loss.item()\n",
    "            _, predicted = torch.max(outputs, 1)\n",
    "            correct_predictions += (predicted == targets).sum().item()\n",
    "            total_predictions += targets.size(0)\n",
    "    val_epoch_loss = running_loss_val / len(dataloader_val)\n",
    "    test_loss.append(val_epoch_loss)\n",
    "    epoch_accuracy = correct_predictions / total_predictions\n",
    "    print(f'Epoch: {epoch}, Accuracy: {epoch_accuracy:.4f}')\n",
    "    val_accuracy.append(epoch_accuracy)\n",
    "    graphs = [\n",
    "        [range(1, epoch + 1), train_loss],  # Training Loss\n",
    "        [range(1, epoch + 1), test_loss],  # Validation Loss\n",
    "    ]\n",
    "    x_bounds = [1, epoch]\n",
    "    y_bounds = [min(min(train_loss + test_loss) - 0.05, 0), max(max(train_loss + test_loss) + 0.05, 1)]\n",
    "    mb.update_graph(graphs, x_bounds, y_bounds)\n",
    "    checkpoint_filename = f'checkpoint{epoch}.pt'\n",
    "    torch.save(model.state_dict(), checkpoint_filename)"
   ]
  },
  {
   "cell_type": "code",
   "execution_count": null,
   "id": "d088acb0-60fd-410f-8c91-4f798177baa5",
   "metadata": {},
   "outputs": [],
   "source": []
  }
 ],
 "metadata": {
  "kernelspec": {
   "display_name": "Python 3 (ipykernel)",
   "language": "python",
   "name": "python3"
  },
  "language_info": {
   "codemirror_mode": {
    "name": "ipython",
    "version": 3
   },
   "file_extension": ".py",
   "mimetype": "text/x-python",
   "name": "python",
   "nbconvert_exporter": "python",
   "pygments_lexer": "ipython3",
   "version": "3.10.12"
  }
 },
 "nbformat": 4,
 "nbformat_minor": 5
}
