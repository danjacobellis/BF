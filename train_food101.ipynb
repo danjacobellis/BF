{
 "cells": [
  {
   "cell_type": "code",
   "execution_count": 1,
   "id": "e4ad81a2-6634-4ee7-b777-ab0bae00c987",
   "metadata": {},
   "outputs": [],
   "source": [
    "import os\n",
    "os.chdir('StableCascade')\n",
    "import yaml\n",
    "import torch\n",
    "import zlib\n",
    "import torch\n",
    "import numpy as np\n",
    "from tqdm import tqdm\n",
    "from inference.utils import *\n",
    "from core.utils import load_or_fail\n",
    "from train import WurstCoreB\n",
    "from scipy.stats import norm\n",
    "from datasets import load_dataset"
   ]
  },
  {
   "cell_type": "code",
   "execution_count": 2,
   "id": "4ab67234-83da-43ca-92da-3e0f13791cbd",
   "metadata": {},
   "outputs": [
    {
     "name": "stdout",
     "output_type": "stream",
     "text": [
      "['model_version', 'stage_a_checkpoint_path', 'effnet_checkpoint_path']\n",
      "['transforms', 'clip_preprocess', 'gdf', 'sampling_configs', 'effnet_preprocess']\n"
     ]
    },
    {
     "data": {
      "application/vnd.jupyter.widget-view+json": {
       "model_id": "a80339a0f4eb4d3a939755027e8810df",
       "version_major": 2,
       "version_minor": 0
      },
      "text/plain": [
       "Loading checkpoint shards:   0%|          | 0/2 [00:00<?, ?it/s]"
      ]
     },
     "metadata": {},
     "output_type": "display_data"
    },
    {
     "name": "stdout",
     "output_type": "stream",
     "text": [
      "['tokenizer', 'text_model', 'generator', 'effnet', 'stage_a']\n"
     ]
    }
   ],
   "source": [
    "device = torch.device(\"cuda:0\" if torch.cuda.is_available() else \"cpu\")\n",
    "config_file_b = 'configs/inference/stage_b_3b.yaml'\n",
    "with open(config_file_b, \"r\", encoding=\"utf-8\") as file:\n",
    "    config_file_b = yaml.safe_load(file)\n",
    "    \n",
    "core = WurstCoreB(config_dict=config_file_b, device=device, training=False)\n",
    "extras = core.setup_extras_pre()\n",
    "models = core.setup_models(extras)\n",
    "models.generator.bfloat16();\n",
    "extras.sampling_configs['cfg'] = 1.1\n",
    "extras.sampling_configs['shift'] = 1\n",
    "extras.sampling_configs['timesteps'] = 10\n",
    "extras.sampling_configs['t_start'] = 1.0"
   ]
  },
  {
   "cell_type": "code",
   "execution_count": 3,
   "id": "e01b4642-b0cf-4bb1-a4c5-388962d79126",
   "metadata": {},
   "outputs": [],
   "source": [
    "def decompress_b4(compressed_batch, original_shape=(16,16,16), c_clip=torch.zeros(4,1,1280).cuda(), u_clip=torch.zeros(4,1,1280).cuda()):\n",
    "    with torch.no_grad(), torch.cuda.amp.autocast(dtype=torch.bfloat16):\n",
    "        decompressed = [zlib.decompress(img) for img in compressed_batch]\n",
    "        decompressed = [np.frombuffer(d, dtype=np.int8) for d in decompressed]\n",
    "        decompressed = [d.reshape(original_shape) for d in decompressed]\n",
    "        decompressed = [norm.ppf((d+0.5)/16) for d in decompressed]\n",
    "        decompressed = [torch.tensor(d).cuda() for d in decompressed]\n",
    "        decompressed = [d.unsqueeze(0) for d in decompressed]\n",
    "        decompressed = torch.cat(decompressed)\n",
    "        conditions = {\n",
    "            'effnet': decompressed,\n",
    "            'clip':   c_clip\n",
    "        }\n",
    "        unconditions = {\n",
    "            'effnet': torch.zeros_like(decompressed),\n",
    "            'clip':   u_clip\n",
    "        }\n",
    "        sampling_b = extras.gdf.sample(\n",
    "            models.generator, conditions, (4, 4, 256, 256),\n",
    "            unconditions, device=device, **extras.sampling_configs\n",
    "        )\n",
    "        print(decompressed.shape)\n",
    "        for (sampled_b, _, _) in tqdm(sampling_b, total=extras.sampling_configs['timesteps']):\n",
    "            sampled_b = sampled_b\n",
    "        sampled = models.stage_a.decode(sampled_b).float()\n",
    "        return sampled"
   ]
  },
  {
   "cell_type": "code",
   "execution_count": null,
   "id": "c923a895-ad16-4ae1-9c91-f2ab0a509c12",
   "metadata": {},
   "outputs": [],
   "source": [
    "food101_train = load_dataset('danjacobellis/food101_cascade',split=\"train\")\n",
    "test_batch = food101_train[0:4]['compressed_image']\n",
    "recovered_batch = decompress_b4(test_batch)\n",
    "show_images(recovered_batch)"
   ]
  },
  {
   "cell_type": "markdown",
   "id": "05db6578-e258-4401-ae8d-70222acb2847",
   "metadata": {},
   "source": [
    "## Train"
   ]
  },
  {
   "cell_type": "code",
   "execution_count": 1,
   "id": "7d536d9b-1660-486d-b8d7-aea8d98331b6",
   "metadata": {},
   "outputs": [],
   "source": [
    "import numpy as np\n",
    "import torch\n",
    "import torch.nn as nn\n",
    "import torch.nn.functional as F\n",
    "import torch.optim as optim\n",
    "import zlib\n",
    "from fastprogress.fastprogress import master_bar, progress_bar\n",
    "from torchvision.transforms import RandomCrop, CenterCrop, RandomHorizontalFlip, RandomErasing, Compose\n",
    "from torch.utils.data import DataLoader, Dataset\n",
    "from datasets import load_dataset\n",
    "from scipy.stats import norm"
   ]
  },
  {
   "cell_type": "code",
   "execution_count": 2,
   "id": "c240fe11-9bd5-46de-aa70-efebc73c2fd4",
   "metadata": {},
   "outputs": [],
   "source": [
    "from vit_pytorch.efficient import ViT\n",
    "from linformer import Linformer"
   ]
  },
  {
   "cell_type": "code",
   "execution_count": 3,
   "id": "f0e34904-36c1-41d0-898d-fe170e72eaba",
   "metadata": {},
   "outputs": [],
   "source": [
    "def entropy_decode(sample):\n",
    "    c = sample['compressed_image']\n",
    "    d = zlib.decompress(c)\n",
    "    d = np.frombuffer(d, dtype=np.int8)\n",
    "    d = d.reshape((16,16,16))\n",
    "    d = norm.ppf((d+0.5)/17)\n",
    "    d = torch.tensor(d)\n",
    "    sample['latent'] = d\n",
    "    return sample"
   ]
  },
  {
   "cell_type": "code",
   "execution_count": 4,
   "id": "8927d999-74a2-4a89-bf49-86496dc1cd38",
   "metadata": {},
   "outputs": [],
   "source": [
    "efficient_transformer = Linformer(\n",
    "    dim=128,\n",
    "    seq_len=49+1,  # 7x7 patches + 1 cls-token\n",
    "    depth=12,\n",
    "    heads=8,\n",
    "    k=64\n",
    ")"
   ]
  },
  {
   "cell_type": "code",
   "execution_count": 5,
   "id": "b7089d14-fe12-4534-b49a-bfdb5e99e8e2",
   "metadata": {},
   "outputs": [],
   "source": [
    "# model = CascadeClassifier().cuda()\n",
    "model = ViT(\n",
    "    dim=128,\n",
    "    image_size=14,\n",
    "    patch_size=2,\n",
    "    num_classes=101,\n",
    "    transformer=efficient_transformer,\n",
    "    channels=16,\n",
    ").cuda()\n",
    "loss_function = nn.CrossEntropyLoss()\n",
    "optimizer = optim.AdamW(model.parameters(), lr=0.001)"
   ]
  },
  {
   "cell_type": "code",
   "execution_count": 6,
   "id": "9d07371f-0c4e-4448-8966-1ad16fb431ff",
   "metadata": {},
   "outputs": [
    {
     "data": {
      "text/plain": [
       "2.479973"
      ]
     },
     "execution_count": 6,
     "metadata": {},
     "output_type": "execute_result"
    }
   ],
   "source": [
    "num_params = sum(p.numel() for p in model.parameters() if p.requires_grad)\n",
    "num_params/1e6"
   ]
  },
  {
   "cell_type": "code",
   "execution_count": 7,
   "id": "d663e1b0-0be9-40be-8fec-1bf5631e0410",
   "metadata": {},
   "outputs": [
    {
     "data": {
      "application/vnd.jupyter.widget-view+json": {
       "model_id": "5659e8930d594ac0a48dffb40ba3b53c",
       "version_major": 2,
       "version_minor": 0
      },
      "text/plain": [
       "Map:   0%|          | 0/75747 [00:00<?, ? examples/s]"
      ]
     },
     "metadata": {},
     "output_type": "display_data"
    },
    {
     "data": {
      "application/vnd.jupyter.widget-view+json": {
       "model_id": "7d85807af4784b43aa18600c082d5dac",
       "version_major": 2,
       "version_minor": 0
      },
      "text/plain": [
       "Map:   0%|          | 0/25250 [00:00<?, ? examples/s]"
      ]
     },
     "metadata": {},
     "output_type": "display_data"
    }
   ],
   "source": [
    "dataset = load_dataset('danjacobellis/food101_cascade').map(entropy_decode).remove_columns(\"compressed_image\").with_format(\"torch\")"
   ]
  },
  {
   "cell_type": "code",
   "execution_count": null,
   "id": "b8f5f5b9-ad45-4f4d-85ac-c678afb0b566",
   "metadata": {},
   "outputs": [
    {
     "data": {
      "text/html": [
       "\n",
       "<style>\n",
       "    /* Turns off some styling */\n",
       "    progress {\n",
       "        /* gets rid of default border in Firefox and Opera. */\n",
       "        border: none;\n",
       "        /* Needs to be in here for Safari polyfill so background images work as expected. */\n",
       "        background-size: auto;\n",
       "    }\n",
       "    progress:not([value]), progress:not([value])::-webkit-progress-bar {\n",
       "        background: repeating-linear-gradient(45deg, #7e7e7e, #7e7e7e 10px, #5c5c5c 10px, #5c5c5c 20px);\n",
       "    }\n",
       "    .progress-bar-interrupted, .progress-bar-interrupted::-webkit-progress-bar {\n",
       "        background: #F44336;\n",
       "    }\n",
       "</style>\n"
      ],
      "text/plain": [
       "<IPython.core.display.HTML object>"
      ]
     },
     "metadata": {},
     "output_type": "display_data"
    },
    {
     "data": {
      "text/html": [
       "\n",
       "    <div>\n",
       "      <progress value='98' class='' max='200' style='width:300px; height:20px; vertical-align: middle;'></progress>\n",
       "      49.00% [98/200 3:22:51&lt;3:31:08]\n",
       "    </div>\n",
       "    \n",
       "\n",
       "\n",
       "    <div>\n",
       "      <progress value='47' class='' max='73' style='width:300px; height:20px; vertical-align: middle;'></progress>\n",
       "      64.38% [47/73 01:00&lt;00:33]\n",
       "    </div>\n",
       "    "
      ],
      "text/plain": [
       "<IPython.core.display.HTML object>"
      ]
     },
     "metadata": {},
     "output_type": "display_data"
    },
    {
     "name": "stdout",
     "output_type": "stream",
     "text": [
      "Epoch: 1, Accuracy: 0.0766\n"
     ]
    },
    {
     "data": {
      "image/png": "[encoded data removed]",
      "text/plain": [
       "<Figure size 600x400 with 1 Axes>"
      ]
     },
     "metadata": {},
     "output_type": "display_data"
    },
    {
     "name": "stderr",
     "output_type": "stream",
     "text": [
      "/home/dgj335/.local/lib/python3.10/site-packages/fastprogress/fastprogress.py:206: UserWarning: Attempting to set identical low and high xlims makes transformation singular; automatically expanding.\n",
      "  if x_bounds is not None: self.graph_ax.set_xlim(*x_bounds)\n"
     ]
    },
    {
     "name": "stdout",
     "output_type": "stream",
     "text": [
      "Epoch: 2, Accuracy: 0.1297\n",
      "Epoch: 3, Accuracy: 0.1780\n",
      "Epoch: 4, Accuracy: 0.2023\n",
      "Epoch: 5, Accuracy: 0.2455\n",
      "Epoch: 6, Accuracy: 0.2751\n",
      "Epoch: 7, Accuracy: 0.2987\n",
      "Epoch: 8, Accuracy: 0.3204\n",
      "Epoch: 9, Accuracy: 0.3341\n",
      "Epoch: 10, Accuracy: 0.3414\n",
      "Epoch: 11, Accuracy: 0.3651\n",
      "Epoch: 12, Accuracy: 0.3746\n",
      "Epoch: 13, Accuracy: 0.3791\n",
      "Epoch: 14, Accuracy: 0.3996\n",
      "Epoch: 15, Accuracy: 0.4007\n",
      "Epoch: 16, Accuracy: 0.4054\n",
      "Epoch: 17, Accuracy: 0.4101\n",
      "Epoch: 18, Accuracy: 0.4176\n",
      "Epoch: 19, Accuracy: 0.4109\n",
      "Epoch: 20, Accuracy: 0.4203\n",
      "Epoch: 21, Accuracy: 0.4221\n",
      "Epoch: 22, Accuracy: 0.4229\n",
      "Epoch: 23, Accuracy: 0.4226\n",
      "Epoch: 24, Accuracy: 0.4219\n",
      "Epoch: 25, Accuracy: 0.4218\n",
      "Epoch: 26, Accuracy: 0.4214\n",
      "Epoch: 27, Accuracy: 0.4195\n",
      "Epoch: 28, Accuracy: 0.4153\n",
      "Epoch: 29, Accuracy: 0.4189\n",
      "Epoch: 30, Accuracy: 0.4050\n",
      "Epoch: 31, Accuracy: 0.4135\n",
      "Epoch: 32, Accuracy: 0.4147\n",
      "Epoch: 33, Accuracy: 0.4031\n",
      "Epoch: 34, Accuracy: 0.4118\n",
      "Epoch: 35, Accuracy: 0.4044\n",
      "Epoch: 36, Accuracy: 0.4088\n",
      "Epoch: 37, Accuracy: 0.4026\n",
      "Epoch: 38, Accuracy: 0.4072\n",
      "Epoch: 39, Accuracy: 0.3977\n",
      "Epoch: 40, Accuracy: 0.3986\n",
      "Epoch: 41, Accuracy: 0.3930\n",
      "Epoch: 42, Accuracy: 0.3998\n",
      "Epoch: 43, Accuracy: 0.4004\n",
      "Epoch: 44, Accuracy: 0.3938\n",
      "Epoch: 45, Accuracy: 0.3993\n",
      "Epoch: 46, Accuracy: 0.4048\n",
      "Epoch: 47, Accuracy: 0.3922\n",
      "Epoch: 48, Accuracy: 0.3966\n",
      "Epoch: 49, Accuracy: 0.3977\n",
      "Epoch: 50, Accuracy: 0.4002\n",
      "Epoch: 51, Accuracy: 0.3936\n",
      "Epoch: 52, Accuracy: 0.3939\n",
      "Epoch: 53, Accuracy: 0.3958\n",
      "Epoch: 54, Accuracy: 0.3911\n",
      "Epoch: 55, Accuracy: 0.3938\n",
      "Epoch: 56, Accuracy: 0.3935\n",
      "Epoch: 57, Accuracy: 0.3911\n",
      "Epoch: 58, Accuracy: 0.3909\n",
      "Epoch: 59, Accuracy: 0.3867\n",
      "Epoch: 60, Accuracy: 0.3930\n",
      "Epoch: 61, Accuracy: 0.3953\n",
      "Epoch: 62, Accuracy: 0.3893\n",
      "Epoch: 63, Accuracy: 0.3946\n",
      "Epoch: 64, Accuracy: 0.3961\n",
      "Epoch: 65, Accuracy: 0.3932\n",
      "Epoch: 66, Accuracy: 0.4009\n",
      "Epoch: 67, Accuracy: 0.3989\n",
      "Epoch: 68, Accuracy: 0.3979\n",
      "Epoch: 69, Accuracy: 0.3992\n",
      "Epoch: 70, Accuracy: 0.3884\n",
      "Epoch: 71, Accuracy: 0.3914\n",
      "Epoch: 72, Accuracy: 0.3905\n",
      "Epoch: 73, Accuracy: 0.3896\n",
      "Epoch: 74, Accuracy: 0.3949\n",
      "Epoch: 75, Accuracy: 0.3850\n",
      "Epoch: 76, Accuracy: 0.3883\n",
      "Epoch: 77, Accuracy: 0.3905\n",
      "Epoch: 78, Accuracy: 0.3978\n",
      "Epoch: 79, Accuracy: 0.3893\n",
      "Epoch: 80, Accuracy: 0.3904\n",
      "Epoch: 81, Accuracy: 0.3970\n",
      "Epoch: 82, Accuracy: 0.3911\n",
      "Epoch: 83, Accuracy: 0.3909\n",
      "Epoch: 84, Accuracy: 0.3924\n",
      "Epoch: 85, Accuracy: 0.3914\n",
      "Epoch: 86, Accuracy: 0.3862\n",
      "Epoch: 87, Accuracy: 0.3899\n",
      "Epoch: 88, Accuracy: 0.3923\n",
      "Epoch: 89, Accuracy: 0.3908\n",
      "Epoch: 90, Accuracy: 0.3885\n",
      "Epoch: 91, Accuracy: 0.3947\n",
      "Epoch: 92, Accuracy: 0.3874\n",
      "Epoch: 93, Accuracy: 0.3929\n",
      "Epoch: 94, Accuracy: 0.3866\n",
      "Epoch: 95, Accuracy: 0.3915\n",
      "Epoch: 96, Accuracy: 0.3938\n",
      "Epoch: 97, Accuracy: 0.3955\n",
      "Epoch: 98, Accuracy: 0.3943\n",
      "0.048524554818868642\r"
     ]
    }
   ],
   "source": [
    "epochs = 200\n",
    "mb = master_bar(range(1, epochs + 1))\n",
    "train_loss = []\n",
    "test_loss = []\n",
    "val_accuracy = []\n",
    "augmentations = Compose([\n",
    "    RandomCrop(14),\n",
    "    RandomHorizontalFlip(0.5),\n",
    "    RandomErasing(p=0.5, scale=(4/196, 48/196), ratio=(1/14, 14), value=0, inplace=False),\n",
    "    RandomErasing(p=0.5, scale=(4/196, 48/196), ratio=(1/14, 14), value=0, inplace=False),\n",
    "    RandomErasing(p=0.5, scale=(4/196, 48/196), ratio=(1/14, 14), value=0, inplace=False),\n",
    "    RandomErasing(p=0.5, scale=(4/196, 48/196), ratio=(1/14, 14), value=0, inplace=False),\n",
    "])\n",
    "\n",
    "center_crop = CenterCrop(14)\n",
    "\n",
    "for epoch in mb:\n",
    "    # Training Phase\n",
    "    dataloader_train = DataLoader(dataset['train'], batch_size=1024, shuffle=True, drop_last=True)\n",
    "    model.train()\n",
    "    running_loss = 0.0\n",
    "    for inputs in progress_bar(dataloader_train, parent=mb):\n",
    "        x = augmentations(inputs['latent'].cuda())\n",
    "        targets = inputs['label'].to(torch.int64).cuda()\n",
    "        optimizer.zero_grad()\n",
    "        outputs = model(x)\n",
    "        loss = loss_function(outputs, targets)\n",
    "        if torch.isnan(loss):\n",
    "            print(f\"Loss is nan, skipping batch\")\n",
    "            continue\n",
    "        loss.backward()\n",
    "        print(loss.item(), end='\\r')\n",
    "        # torch.nn.utils.clip_grad_norm_(model.parameters(), max_norm=1.0)\n",
    "        optimizer.step()\n",
    "        running_loss += loss.item()\n",
    "\n",
    "    train_epoch_loss = running_loss / len(dataloader_train)\n",
    "    train_loss.append(train_epoch_loss)\n",
    "    \n",
    "    # Validation Phase\n",
    "    dataloader_val = DataLoader(dataset['validation'], batch_size=256, shuffle=False, drop_last=False)\n",
    "    model.eval()\n",
    "    running_loss_val = 0.0\n",
    "    correct_predictions = 0\n",
    "    total_predictions = 0\n",
    "    with torch.no_grad():\n",
    "        for inputs in dataloader_val:\n",
    "            x = center_crop(inputs['latent'].cuda())\n",
    "            targets = inputs['label'].to(torch.int64).cuda()\n",
    "            outputs = model(x)\n",
    "            loss = loss_function(outputs, targets)\n",
    "            if torch.isnan(loss):\n",
    "                print(f\"Loss is nan, skipping batch\")\n",
    "                continue\n",
    "            running_loss_val += loss.item()\n",
    "            _, predicted = torch.max(outputs, 1)\n",
    "            correct_predictions += (predicted == targets).sum().item()\n",
    "            total_predictions += targets.size(0)\n",
    "    val_epoch_loss = running_loss_val / len(dataloader_val)\n",
    "    test_loss.append(val_epoch_loss)\n",
    "    epoch_accuracy = correct_predictions / total_predictions\n",
    "    print(f'Epoch: {epoch}, Accuracy: {epoch_accuracy:.4f}')\n",
    "    val_accuracy.append(epoch_accuracy)\n",
    "    graphs = [\n",
    "        [range(1, epoch + 1), train_loss],  # Training Loss\n",
    "        [range(1, epoch + 1), test_loss],  # Validation Loss\n",
    "    ]\n",
    "    x_bounds = [1, epoch]\n",
    "    y_bounds = [min(min(train_loss + test_loss) - 0.05, 0), max(max(train_loss + test_loss) + 0.05, 1)]\n",
    "    mb.update_graph(graphs, x_bounds, y_bounds)\n",
    "    checkpoint_filename = f'checkpoint{epoch}.pt'\n",
    "    torch.save(model.state_dict(), checkpoint_filename)"
   ]
  }
 ],
 "metadata": {
  "kernelspec": {
   "display_name": "Python 3 (ipykernel)",
   "language": "python",
   "name": "python3"
  },
  "language_info": {
   "codemirror_mode": {
    "name": "ipython",
    "version": 3
   },
   "file_extension": ".py",
   "mimetype": "text/x-python",
   "name": "python",
   "nbconvert_exporter": "python",
   "pygments_lexer": "ipython3",
   "version": "3.10.12"
  }
 },
 "nbformat": 4,
 "nbformat_minor": 5
}
