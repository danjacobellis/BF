{
 "cells": [
  {
   "cell_type": "code",
   "execution_count": 1,
   "id": "e4ad81a2-6634-4ee7-b777-ab0bae00c987",
   "metadata": {},
   "outputs": [],
   "source": [
    "import os\n",
    "os.chdir('StableCascade')\n",
    "import yaml\n",
    "import torch\n",
    "import zlib\n",
    "import torch\n",
    "import numpy as np\n",
    "from tqdm import tqdm\n",
    "from inference.utils import *\n",
    "from core.utils import load_or_fail\n",
    "from train import WurstCoreB\n",
    "from scipy.stats import norm\n",
    "from datasets import load_dataset"
   ]
  },
  {
   "cell_type": "code",
   "execution_count": 2,
   "id": "4ab67234-83da-43ca-92da-3e0f13791cbd",
   "metadata": {},
   "outputs": [
    {
     "name": "stdout",
     "output_type": "stream",
     "text": [
      "['model_version', 'stage_a_checkpoint_path', 'effnet_checkpoint_path']\n",
      "['transforms', 'clip_preprocess', 'gdf', 'sampling_configs', 'effnet_preprocess']\n"
     ]
    },
    {
     "data": {
      "application/vnd.jupyter.widget-view+json": {
       "model_id": "a80339a0f4eb4d3a939755027e8810df",
       "version_major": 2,
       "version_minor": 0
      },
      "text/plain": [
       "Loading checkpoint shards:   0%|          | 0/2 [00:00<?, ?it/s]"
      ]
     },
     "metadata": {},
     "output_type": "display_data"
    },
    {
     "name": "stdout",
     "output_type": "stream",
     "text": [
      "['tokenizer', 'text_model', 'generator', 'effnet', 'stage_a']\n"
     ]
    }
   ],
   "source": [
    "device = torch.device(\"cuda:0\" if torch.cuda.is_available() else \"cpu\")\n",
    "config_file_b = 'configs/inference/stage_b_3b.yaml'\n",
    "with open(config_file_b, \"r\", encoding=\"utf-8\") as file:\n",
    "    config_file_b = yaml.safe_load(file)\n",
    "    \n",
    "core = WurstCoreB(config_dict=config_file_b, device=device, training=False)\n",
    "extras = core.setup_extras_pre()\n",
    "models = core.setup_models(extras)\n",
    "models.generator.bfloat16();\n",
    "extras.sampling_configs['cfg'] = 1.1\n",
    "extras.sampling_configs['shift'] = 1\n",
    "extras.sampling_configs['timesteps'] = 10\n",
    "extras.sampling_configs['t_start'] = 1.0"
   ]
  },
  {
   "cell_type": "code",
   "execution_count": 3,
   "id": "e01b4642-b0cf-4bb1-a4c5-388962d79126",
   "metadata": {},
   "outputs": [],
   "source": [
    "def decompress_b4(compressed_batch, original_shape=(16,16,16), c_clip=torch.zeros(4,1,1280).cuda(), u_clip=torch.zeros(4,1,1280).cuda()):\n",
    "    with torch.no_grad(), torch.cuda.amp.autocast(dtype=torch.bfloat16):\n",
    "        decompressed = [zlib.decompress(img) for img in compressed_batch]\n",
    "        decompressed = [np.frombuffer(d, dtype=np.int8) for d in decompressed]\n",
    "        decompressed = [d.reshape(original_shape) for d in decompressed]\n",
    "        decompressed = [norm.ppf((d+0.5)/16) for d in decompressed]\n",
    "        decompressed = [torch.tensor(d).cuda() for d in decompressed]\n",
    "        decompressed = [d.unsqueeze(0) for d in decompressed]\n",
    "        decompressed = torch.cat(decompressed)\n",
    "        conditions = {\n",
    "            'effnet': decompressed,\n",
    "            'clip':   c_clip\n",
    "        }\n",
    "        unconditions = {\n",
    "            'effnet': torch.zeros_like(decompressed),\n",
    "            'clip':   u_clip\n",
    "        }\n",
    "        sampling_b = extras.gdf.sample(\n",
    "            models.generator, conditions, (4, 4, 256, 256),\n",
    "            unconditions, device=device, **extras.sampling_configs\n",
    "        )\n",
    "        print(decompressed.shape)\n",
    "        for (sampled_b, _, _) in tqdm(sampling_b, total=extras.sampling_configs['timesteps']):\n",
    "            sampled_b = sampled_b\n",
    "        sampled = models.stage_a.decode(sampled_b).float()\n",
    "        return sampled"
   ]
  },
  {
   "cell_type": "code",
   "execution_count": null,
   "id": "c923a895-ad16-4ae1-9c91-f2ab0a509c12",
   "metadata": {},
   "outputs": [],
   "source": [
    "food101_train = load_dataset('danjacobellis/food101_cascade',split=\"train\")\n",
    "test_batch = food101_train[0:4]['compressed_image']\n",
    "recovered_batch = decompress_b4(test_batch)\n",
    "show_images(recovered_batch)"
   ]
  },
  {
   "cell_type": "markdown",
   "id": "05db6578-e258-4401-ae8d-70222acb2847",
   "metadata": {},
   "source": [
    "## Train"
   ]
  },
  {
   "cell_type": "code",
   "execution_count": 1,
   "id": "7d536d9b-1660-486d-b8d7-aea8d98331b6",
   "metadata": {},
   "outputs": [],
   "source": [
    "import numpy as np\n",
    "import torch\n",
    "import torch.nn as nn\n",
    "import torch.nn.functional as F\n",
    "import torch.optim as optim\n",
    "import zlib\n",
    "from fastprogress.fastprogress import master_bar, progress_bar\n",
    "from torch.utils.data import DataLoader, Dataset\n",
    "from datasets import load_dataset\n",
    "from scipy.stats import norm"
   ]
  },
  {
   "cell_type": "code",
   "execution_count": 2,
   "id": "f0e34904-36c1-41d0-898d-fe170e72eaba",
   "metadata": {},
   "outputs": [],
   "source": [
    "def entropy_decode(sample):\n",
    "    c = sample['compressed_image']\n",
    "    d = zlib.decompress(c)\n",
    "    d = np.frombuffer(d, dtype=np.int8)\n",
    "    d = d.reshape((16,16,16))\n",
    "    d = norm.ppf((d+0.5)/16)\n",
    "    d = torch.tensor(d)\n",
    "    sample['latent'] = d\n",
    "    return sample"
   ]
  },
  {
   "cell_type": "code",
   "execution_count": 3,
   "id": "8927d999-74a2-4a89-bf49-86496dc1cd38",
   "metadata": {},
   "outputs": [],
   "source": [
    "class CascadeClassifier(nn.Module):\n",
    "    def __init__(self):\n",
    "        super(CascadeClassifier, self).__init__()\n",
    "        self.conv1 = nn.Conv2d(in_channels=16, out_channels=32, kernel_size=3, stride=2)\n",
    "        self.conv2 = nn.Conv2d(in_channels=32, out_channels=64, kernel_size=3, stride=2)\n",
    "        self.fc1 = nn.Linear(576, 512)\n",
    "        self.fc2 = nn.Linear(512, 512)\n",
    "        self.fc3 = nn.Linear(512, 512)\n",
    "        self.fc4 = nn.Linear(512, 101)\n",
    "\n",
    "    def forward(self, x):\n",
    "        x = F.relu(self.conv1(x))\n",
    "        x = F.relu(self.conv2(x))\n",
    "        x = x.view(x.size(0), -1)\n",
    "        x = F.relu(self.fc1(x))\n",
    "        x = F.relu(self.fc2(x))\n",
    "        x = F.relu(self.fc3(x))\n",
    "        x = self.fc4(x)\n",
    "        return x"
   ]
  },
  {
   "cell_type": "code",
   "execution_count": 4,
   "id": "b7089d14-fe12-4534-b49a-bfdb5e99e8e2",
   "metadata": {},
   "outputs": [],
   "source": [
    "model = CascadeClassifier().cuda()\n",
    "loss_function = nn.CrossEntropyLoss()\n",
    "optimizer = optim.AdamW(model.parameters(), lr=0.001)"
   ]
  },
  {
   "cell_type": "code",
   "execution_count": 5,
   "id": "9d07371f-0c4e-4448-8966-1ad16fb431ff",
   "metadata": {},
   "outputs": [
    {
     "data": {
      "text/plain": [
       "0.895685"
      ]
     },
     "execution_count": 5,
     "metadata": {},
     "output_type": "execute_result"
    }
   ],
   "source": [
    "num_params = sum(p.numel() for p in model.parameters() if p.requires_grad)\n",
    "num_params/1e6"
   ]
  },
  {
   "cell_type": "code",
   "execution_count": 6,
   "id": "d663e1b0-0be9-40be-8fec-1bf5631e0410",
   "metadata": {},
   "outputs": [
    {
     "data": {
      "application/vnd.jupyter.widget-view+json": {
       "model_id": "1bafd7d0925342f8a92bc7367a87ce85",
       "version_major": 2,
       "version_minor": 0
      },
      "text/plain": [
       "Map:   0%|          | 0/75747 [00:00<?, ? examples/s]"
      ]
     },
     "metadata": {},
     "output_type": "display_data"
    },
    {
     "data": {
      "application/vnd.jupyter.widget-view+json": {
       "model_id": "fb93d45c0a9745dc894fcdbd1b6d14d5",
       "version_major": 2,
       "version_minor": 0
      },
      "text/plain": [
       "Map:   0%|          | 0/25250 [00:00<?, ? examples/s]"
      ]
     },
     "metadata": {},
     "output_type": "display_data"
    }
   ],
   "source": [
    "dataset = load_dataset('danjacobellis/food101_cascade').map(entropy_decode).remove_columns(\"compressed_image\").with_format(\"torch\")"
   ]
  },
  {
   "cell_type": "code",
   "execution_count": null,
   "id": "b8f5f5b9-ad45-4f4d-85ac-c678afb0b566",
   "metadata": {},
   "outputs": [
    {
     "data": {
      "text/html": [
       "\n",
       "<style>\n",
       "    /* Turns off some styling */\n",
       "    progress {\n",
       "        /* gets rid of default border in Firefox and Opera. */\n",
       "        border: none;\n",
       "        /* Needs to be in here for Safari polyfill so background images work as expected. */\n",
       "        background-size: auto;\n",
       "    }\n",
       "    progress:not([value]), progress:not([value])::-webkit-progress-bar {\n",
       "        background: repeating-linear-gradient(45deg, #7e7e7e, #7e7e7e 10px, #5c5c5c 10px, #5c5c5c 20px);\n",
       "    }\n",
       "    .progress-bar-interrupted, .progress-bar-interrupted::-webkit-progress-bar {\n",
       "        background: #F44336;\n",
       "    }\n",
       "</style>\n"
      ],
      "text/plain": [
       "<IPython.core.display.HTML object>"
      ]
     },
     "metadata": {},
     "output_type": "display_data"
    },
    {
     "data": {
      "text/html": [
       "\n",
       "    <div>\n",
       "      <progress value='2' class='' max='200' style='width:300px; height:20px; vertical-align: middle;'></progress>\n",
       "      1.00% [2/200 14:24&lt;23:46:08]\n",
       "    </div>\n",
       "    \n",
       "\n",
       "\n",
       "    <div>\n",
       "      <progress value='25' class='' max='1183' style='width:300px; height:20px; vertical-align: middle;'></progress>\n",
       "      2.11% [25/1183 00:06&lt;05:18]\n",
       "    </div>\n",
       "    "
      ],
      "text/plain": [
       "<IPython.core.display.HTML object>"
      ]
     },
     "metadata": {},
     "output_type": "display_data"
    },
    {
     "name": "stdout",
     "output_type": "stream",
     "text": [
      "Epoch: 1, Accuracy: 0.0892\n"
     ]
    },
    {
     "data": {
      "image/png": "[encoded data removed]",
      "text/plain": [
       "<Figure size 600x400 with 1 Axes>"
      ]
     },
     "metadata": {},
     "output_type": "display_data"
    },
    {
     "name": "stderr",
     "output_type": "stream",
     "text": [
      "/home/server/.local/lib/python3.10/site-packages/fastprogress/fastprogress.py:206: UserWarning: Attempting to set identical low and high xlims makes transformation singular; automatically expanding.\n",
      "  if x_bounds is not None: self.graph_ax.set_xlim(*x_bounds)\n"
     ]
    },
    {
     "name": "stdout",
     "output_type": "stream",
     "text": [
      "Epoch: 2, Accuracy: 0.1511\n"
     ]
    }
   ],
   "source": [
    "epochs = 200\n",
    "mb = master_bar(range(1, epochs + 1))\n",
    "train_loss = []\n",
    "test_loss = []\n",
    "val_accuracy = []  \n",
    "\n",
    "for epoch in mb:\n",
    "    # Training Phase\n",
    "    dataloader_train = DataLoader(dataset['train'], batch_size=64, shuffle=True, drop_last=True)\n",
    "    model.train()\n",
    "    running_loss = 0.0\n",
    "    for inputs in progress_bar(dataloader_train, parent=mb):\n",
    "        x = inputs['latent'].cuda()\n",
    "        targets = inputs['label'].to(torch.int64).cuda()\n",
    "        optimizer.zero_grad()\n",
    "        outputs = model(x)\n",
    "        loss = loss_function(outputs, targets)\n",
    "        loss.backward()\n",
    "        optimizer.step()\n",
    "        running_loss += loss.item()\n",
    "\n",
    "    train_epoch_loss = running_loss / len(dataloader_train)\n",
    "    train_loss.append(train_epoch_loss)\n",
    "    \n",
    "    # Validation Phase\n",
    "    dataloader_val = DataLoader(dataset['validation'], batch_size=64, shuffle=False, drop_last=False)\n",
    "    model.eval()\n",
    "    running_loss_val = 0.0\n",
    "    correct_predictions = 0\n",
    "    total_predictions = 0\n",
    "    with torch.no_grad():\n",
    "        for inputs in dataloader_val:\n",
    "            x = inputs['latent'].cuda()\n",
    "            targets = inputs['label'].to(torch.int64).cuda()\n",
    "            outputs = model(x)\n",
    "            loss = loss_function(outputs, targets)\n",
    "            running_loss_val += loss.item()\n",
    "            _, predicted = torch.max(outputs, 1)\n",
    "            correct_predictions += (predicted == targets).sum().item()\n",
    "            total_predictions += targets.size(0)\n",
    "    val_epoch_loss = running_loss_val / len(dataloader_val)\n",
    "    test_loss.append(val_epoch_loss)\n",
    "    epoch_accuracy = correct_predictions / total_predictions\n",
    "    print(f'Epoch: {epoch}, Accuracy: {epoch_accuracy:.4f}')\n",
    "    val_accuracy.append(epoch_accuracy)\n",
    "    graphs = [\n",
    "        [range(1, epoch + 1), train_loss],  # Training Loss\n",
    "        [range(1, epoch + 1), test_loss],  # Validation Loss\n",
    "    ]\n",
    "    x_bounds = [1, epoch]\n",
    "    y_bounds = [min(min(train_loss + test_loss) - 0.05, 0), max(max(train_loss + test_loss) + 0.05, 1)]\n",
    "    mb.update_graph(graphs, x_bounds, y_bounds)\n",
    "    checkpoint_filename = f'checkpoint{epoch}.pt'\n",
    "    torch.save(model.state_dict(), checkpoint_filename)"
   ]
  }
 ],
 "metadata": {
  "kernelspec": {
   "display_name": "Python 3 (ipykernel)",
   "language": "python",
   "name": "python3"
  },
  "language_info": {
   "codemirror_mode": {
    "name": "ipython",
    "version": 3
   },
   "file_extension": ".py",
   "mimetype": "text/x-python",
   "name": "python",
   "nbconvert_exporter": "python",
   "pygments_lexer": "ipython3",
   "version": "3.10.12"
  }
 },
 "nbformat": 4,
 "nbformat_minor": 5
}
